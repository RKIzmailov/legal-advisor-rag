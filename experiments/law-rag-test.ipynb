{
 "cells": [
  {
   "cell_type": "code",
   "execution_count": 3,
   "metadata": {},
   "outputs": [],
   "source": [
    "import yaml\n",
    "\n",
    "config_path = '..\\\\config.yaml'\n",
    "\n",
    "\n",
    "with open(config_path, 'r') as file:\n",
    "    config = yaml.safe_load(file)"
   ]
  },
  {
   "cell_type": "code",
   "execution_count": 4,
   "metadata": {},
   "outputs": [
    {
     "name": "stdout",
     "output_type": "stream",
     "text": [
      "Successfully initialized gpt-4o-mini LLM client.\n"
     ]
    }
   ],
   "source": [
    "import pandas as pd\n",
    "import json\n",
    "import os\n",
    "from tqdm.auto import tqdm\n",
    "from dotenv import load_dotenv\n",
    "\n",
    "from openai import OpenAI\n",
    "from anthropic import Anthropic\n",
    "\n",
    "load_dotenv(dotenv_path='..\\\\.env')\n",
    "\n",
    "OPENAI_API_KEY = os.getenv(\"OPENAI_API_KEY\")\n",
    "ANTHROPIC_API_KEY = os.getenv(\"ANTHROPIC_API_KEY\")\n",
    "\n",
    "if not OPENAI_API_KEY:\n",
    "    raise ValueError(\"Missing OpenAI API key.\")\n",
    "if not ANTHROPIC_API_KEY:\n",
    "    raise ValueError(\"Missing Anthropic API key.\")\n",
    "\n",
    "openai_clent = OpenAI(api_key = OPENAI_API_KEY)\n",
    "anthropic_client = Anthropic(api_key=ANTHROPIC_API_KEY)\n",
    "\n",
    "llm_client_map = {\n",
    "    \"gpt-4o-mini\": openai_clent,\n",
    "    \"claude-3-sonnet-20240229\": anthropic_client\n",
    "}\n",
    "\n",
    "def get_llm_client(model_name):\n",
    "    \"\"\"\n",
    "    Get the appropriate LLM client based on the model name.\n",
    "    Raises an error if the model is not recognized.\n",
    "    \"\"\"\n",
    "    llm_class = llm_client_map.get(model_name)\n",
    "    if llm_class is None:\n",
    "        raise ValueError(f\"LLM client error: '{model_name}' is not recognized.\")\n",
    "    return llm_class\n",
    "\n",
    "model_name = config['RAG_model']['model_name']\n",
    "llm_client = get_llm_client(model_name)\n",
    "\n",
    "print(f\"Successfully initialized {model_name} LLM client.\")"
   ]
  },
  {
   "cell_type": "code",
   "execution_count": 5,
   "metadata": {},
   "outputs": [],
   "source": [
    "Org =  config['Weaviate']['ORG']\n",
    "API_KEY = config['Weaviate']['API_KEY']\n",
    "weaviate_url =  config['Weaviate']['URL']\n",
    "\n",
    "chunk_size = config['Create_node']['chunk_size']\n",
    "chunk_overlap = config['Create_node']['chunk_overlap']\n",
    "\n",
    "documents_file_path = config['Documents_path']\n",
    "\n",
    "language = config['Language']"
   ]
  },
  {
   "cell_type": "code",
   "execution_count": 6,
   "metadata": {},
   "outputs": [
    {
     "name": "stderr",
     "output_type": "stream",
     "text": [
      "c:\\Users\\rkizm\\.virtualenvs\\legal-advisor-rag-a8TsuGdb\\Lib\\site-packages\\transformers\\tokenization_utils_base.py:1601: FutureWarning: `clean_up_tokenization_spaces` was not set. It will be set to `True` by default. This behavior will be depracted in transformers v4.45, and will be then set to `False` by default. For more details check this issue: https://github.com/huggingface/transformers/issues/31884\n",
      "  warnings.warn(\n"
     ]
    },
    {
     "name": "stdout",
     "output_type": "stream",
     "text": [
      "Using embedding model: sentence-transformers/distiluse-base-multilingual-cased-v2\n"
     ]
    }
   ],
   "source": [
    "from llama_index.embeddings.huggingface import HuggingFaceEmbedding\n",
    "from llama_index.core import Settings\n",
    "\n",
    "embed_model_name = config.get('Embedding_model', 'sentence-transformers/distiluse-base-multilingual-cased-v2')\n",
    "\n",
    "if \"sentence-transformers\" not in embed_model_name:\n",
    "    print(f\"Warning: The model {embed_model_name} is not a sentence-transformer model. Switching to a default.\")\n",
    "    embed_model_name = 'sentence-transformers/distiluse-base-multilingual-cased-v2'\n",
    "\n",
    "embed_model = HuggingFaceEmbedding(model_name=embed_model_name)\n",
    "\n",
    "Settings.embed_model = embed_model\n",
    "\n",
    "print(f\"Using embedding model: {embed_model_name}\")"
   ]
  },
  {
   "cell_type": "code",
   "execution_count": 5,
   "metadata": {},
   "outputs": [],
   "source": [
    "# tx = 'how are you?'\n",
    "# embed_model.get_text_embedding(tx) == embed_model.get_query_embedding(tx)\n",
    "\n",
    "# emb1 = embed_model.get_text_embedding(tx)\n",
    "# emb2 = embed_model.get_query_embedding(tx)\n",
    "\n",
    "# embed_model.similarity(embedding1=emb1, embedding2=emb2)"
   ]
  },
  {
   "cell_type": "markdown",
   "metadata": {},
   "source": [
    "# Ingestion"
   ]
  },
  {
   "cell_type": "code",
   "execution_count": 6,
   "metadata": {},
   "outputs": [
    {
     "name": "stderr",
     "output_type": "stream",
     "text": [
      "c:\\Users\\rkizm\\.virtualenvs\\legal-advisor-rag-a8TsuGdb\\Lib\\site-packages\\weaviate\\__init__.py:144: DeprecationWarning: Dep010: Importing AuthApiKey from weaviate is deprecated. Import AuthApiKey from its module: weaviate.auth\n",
      "  _Warnings.root_module_import(name, map_[name])\n",
      "C:\\Users\\rkizm\\AppData\\Local\\Temp\\ipykernel_17056\\3416258396.py:4: DeprecationWarning: \n",
      "Python client v3 `weaviate.Client(...)` connections and methods are deprecated and will\n",
      "            be removed by 2024-11-30.\n",
      "\n",
      "            Upgrade your code to use Python client v4 `weaviate.WeaviateClient` connections and methods.\n",
      "                - For Python Client v4 usage, see: https://weaviate.io/developers/weaviate/client-libraries/python\n",
      "                - For code migration, see: https://weaviate.io/developers/weaviate/client-libraries/python/v3_v4_migration\n",
      "\n",
      "            If you have to use v3 code, install the v3 client and pin the v3 dependency in your requirements file: `weaviate-client>=3.26.7;<4.0.0`\n",
      "  return weaviate.Client(\n",
      "c:\\Users\\rkizm\\.virtualenvs\\legal-advisor-rag-a8TsuGdb\\Lib\\site-packages\\weaviate\\warnings.py:162: DeprecationWarning: Dep016: Python client v3 `weaviate.Client(...)` connections and methods are deprecated and will\n",
      "            be removed by 2024-11-30.\n",
      "\n",
      "            Upgrade your code to use Python client v4 `weaviate.WeaviateClient` connections and methods.\n",
      "                - For Python Client v4 usage, see: https://weaviate.io/developers/weaviate/client-libraries/python\n",
      "                - For code migration, see: https://weaviate.io/developers/weaviate/client-libraries/python/v3_v4_migration\n",
      "\n",
      "            If you have to use v3 code, install the v3 client and pin the v3 dependency in your requirements file: `weaviate-client>=3.26.7;<4.0.0`\n",
      "  warnings.warn(\n"
     ]
    },
    {
     "name": "stdout",
     "output_type": "stream",
     "text": [
      "Client is ready: True\n"
     ]
    }
   ],
   "source": [
    "# import weaviate\n",
    "\n",
    "# def get_weaviate_client(api_key, url):\n",
    "#     return weaviate.Client(\n",
    "#             url=weaviate_url,\n",
    "#             auth_client_secret=weaviate.AuthApiKey(api_key=api_key)\n",
    "#         )\n",
    "\n",
    "# # client\n",
    "# client = get_weaviate_client(API_KEY, weaviate_url)\n",
    "\n",
    "# print(f\"Client is ready: {client.is_ready()}\")\n",
    "\n",
    "# # DELETING all info from DB\n",
    "# client.schema.delete_class(Org)"
   ]
  },
  {
   "cell_type": "code",
   "execution_count": 7,
   "metadata": {},
   "outputs": [
    {
     "name": "stderr",
     "output_type": "stream",
     "text": [
      "c:\\Users\\rkizm\\.virtualenvs\\legal-advisor-rag-a8TsuGdb\\Lib\\site-packages\\transformers\\tokenization_utils_base.py:1601: FutureWarning: `clean_up_tokenization_spaces` was not set. It will be set to `True` by default. This behavior will be depracted in transformers v4.45, and will be then set to `False` by default. For more details check this issue: https://github.com/huggingface/transformers/issues/31884\n",
      "  warnings.warn(\n"
     ]
    },
    {
     "name": "stdout",
     "output_type": "stream",
     "text": [
      "Weaviate client is ready: True\n",
      "Weaviate client connection closed.\n"
     ]
    }
   ],
   "source": [
    "# import weaviate\n",
    "# from llama_index.core import SimpleDirectoryReader, StorageContext, VectorStoreIndex, Document\n",
    "# from llama_index.vector_stores.weaviate import WeaviateVectorStore\n",
    "# from transformers import BertTokenizer\n",
    "# import re\n",
    "\n",
    "# def load_documents(file_path):\n",
    "#     return SimpleDirectoryReader(file_path).load_data()\n",
    "\n",
    "# tokenizer = BertTokenizer.from_pretrained('bert-base-multilingual-cased')\n",
    "\n",
    "\n",
    "# def count_tokens(text):\n",
    "#     \"\"\"Counting the number of tokens in a text\"\"\"\n",
    "#     tokens = tokenizer.tokenize(text)\n",
    "#     return len(tokens)\n",
    "\n",
    "\n",
    "# def split_large_text(text, max_tokens=4000):\n",
    "#     \"\"\"Split the text into fragments no larger than max_tokens\"\"\"\n",
    "#     words = text.split()\n",
    "#     split_texts = []\n",
    "#     current_chunk = []\n",
    "\n",
    "#     for word in words:\n",
    "#         current_chunk.append(word)\n",
    "#         if count_tokens(' '.join(current_chunk)) >= max_tokens:\n",
    "#             split_texts.append(' '.join(current_chunk))\n",
    "#             current_chunk = []\n",
    "\n",
    "#     if current_chunk:\n",
    "#         split_texts.append(' '.join(current_chunk))\n",
    "\n",
    "#     return split_texts\n",
    "\n",
    "\n",
    "# def split_text_by_paragraphs(text, max_tokens=4000):\n",
    "#     \"\"\"Splitting text into paragraphs of no more than max_tokens\"\"\"\n",
    "#     paragraphs = text.split('\\n\\n')\n",
    "#     new_nodes = []\n",
    "#     current_text = \"\"\n",
    "\n",
    "#     for para in paragraphs:\n",
    "#         if count_tokens(current_text + para) < max_tokens:\n",
    "#             current_text += para + \"\\n\\n\"\n",
    "#         else:\n",
    "#             if current_text:\n",
    "#                 new_nodes.append(current_text.strip())\n",
    "#             current_text = para + \"\\n\\n\"\n",
    "\n",
    "#     if current_text.strip():\n",
    "#         new_nodes.append(current_text.strip())\n",
    "\n",
    "#     final_nodes = []\n",
    "#     for node in new_nodes:\n",
    "#         if count_tokens(node) > max_tokens:\n",
    "#             split_nodes = split_large_text(node, max_tokens)\n",
    "#             final_nodes.extend(split_nodes)\n",
    "#         else:\n",
    "#             final_nodes.append(node)\n",
    "\n",
    "#     return final_nodes\n",
    "\n",
    "\n",
    "# def create_nodes(documents, max_tokens=4000):\n",
    "#     all_nodes = []\n",
    "#     for doc in documents:\n",
    "#         law_name = doc.metadata['file_name'].replace('.txt', '')\n",
    "#         law_text = doc.text\n",
    "#         nodes_list = re.split(r'\\n(?=Статья \\d+\\.)', law_text.strip())\n",
    "        \n",
    "#         for node_text in nodes_list:\n",
    "#             if count_tokens(node_text) <= max_tokens:\n",
    "#                 all_nodes.append(Document(text=node_text, metadata={'file_name': law_name}))\n",
    "#             else:\n",
    "#                 split_nodes = split_text_by_paragraphs(node_text, max_tokens=4000)\n",
    "#                 for split_node in split_nodes:\n",
    "#                     all_nodes.append(Document(text=split_node, metadata={'file_name': law_name}))\n",
    "\n",
    "#     return all_nodes\n",
    "\n",
    "\n",
    "# def connect_index(weaviate_client):\n",
    "#     vector_store = WeaviateVectorStore(\n",
    "#         weaviate_client=weaviate_client,\n",
    "#         index_name=Org\n",
    "#     )\n",
    "\n",
    "#     storage_context = StorageContext.from_defaults(vector_store=vector_store)\n",
    "#     index = VectorStoreIndex([], storage_context=storage_context)\n",
    "#     return index\n",
    "\n",
    "\n",
    "# def insert_nodes_index(index, nodes):\n",
    "#     index.insert_nodes(nodes)\n",
    "\n",
    "\n",
    "# client = weaviate.connect_to_wcs(\n",
    "#             cluster_url=weaviate_url,\n",
    "#             auth_credentials=weaviate.AuthApiKey(api_key=API_KEY)\n",
    "# )\n",
    "# print(\"Weaviate client is ready:\", client.is_ready())\n",
    "\n",
    "# documents = load_documents(documents_file_path)\n",
    "# nodes = create_nodes(documents)\n",
    "\n",
    "# index = connect_index(weaviate_client=client)\n",
    "# insert_nodes_index(index, nodes=nodes)\n",
    "\n",
    "# client.close()\n",
    "# print(\"Weaviate client connection closed.\")"
   ]
  },
  {
   "cell_type": "markdown",
   "metadata": {},
   "source": [
    "# RAG flow"
   ]
  },
  {
   "cell_type": "code",
   "execution_count": 7,
   "metadata": {},
   "outputs": [
    {
     "name": "stderr",
     "output_type": "stream",
     "text": [
      "c:\\Users\\rkizm\\.virtualenvs\\legal-advisor-rag-a8TsuGdb\\Lib\\site-packages\\weaviate\\__init__.py:144: DeprecationWarning: Dep010: Importing AuthApiKey from weaviate is deprecated. Import AuthApiKey from its module: weaviate.auth\n",
      "  _Warnings.root_module_import(name, map_[name])\n"
     ]
    },
    {
     "name": "stdout",
     "output_type": "stream",
     "text": [
      "Client is ready: True\n"
     ]
    }
   ],
   "source": [
    "import weaviate\n",
    "from llama_index.core import StorageContext, VectorStoreIndex\n",
    "from llama_index.vector_stores.weaviate import WeaviateVectorStore\n",
    "\n",
    "def connect_index(weaviate_client):\n",
    "    vector_store = WeaviateVectorStore(\n",
    "        weaviate_client=weaviate_client,\n",
    "        index_name=Org\n",
    "    )\n",
    "\n",
    "    storage_context = StorageContext.from_defaults(vector_store=vector_store)\n",
    "    index = VectorStoreIndex([], storage_context=storage_context)\n",
    "    return index\n",
    "\n",
    "weaviate_client = weaviate.connect_to_wcs(\n",
    "    cluster_url=weaviate_url,\n",
    "    auth_credentials=weaviate.AuthApiKey(api_key=API_KEY)\n",
    "    )\n",
    "print(\"Client is ready:\", weaviate_client.is_ready())\n",
    "\n",
    "index = connect_index(weaviate_client=weaviate_client)"
   ]
  },
  {
   "cell_type": "code",
   "execution_count": 27,
   "metadata": {},
   "outputs": [],
   "source": [
    "from llama_index.core.retrievers import VectorIndexRetriever\n",
    "\n",
    "retriever = VectorIndexRetriever(\n",
    "    index,\n",
    "    vector_store_query_mode=\"hybrid\",\n",
    "    similarity_top_k = config['Retriever']['similarity_top_k'],\n",
    "    alpha = 0.5, #config['Retriever']['alpha'],\n",
    "    similarity_threshold = config['Retriever']['similarity_threshold'],\n",
    "    )\n",
    "\n",
    "def search_nodes(query):\n",
    "    return retriever.retrieve(query)\n",
    "\n",
    "\n",
    "def build_prompt(query, search_results):\n",
    "\n",
    "    nodes_with_scores = [(node, node.score) for node in search_results]\n",
    "    sorted_nodes = sorted(nodes_with_scores, key=lambda x: x[1], reverse=True)\n",
    "    sorted_nodes_only = [node for node, score in sorted_nodes]\n",
    "\n",
    "    context = \"\"\n",
    "    \n",
    "    for nod in sorted_nodes_only:\n",
    "        context = context + nod.metadata['file_name'].replace('txt', '') + '\\n' + nod.text + \"\\n\\n\"\n",
    "\n",
    "    prompt_template = config['RAG_model']['prompt_template']\n",
    "    prompt = prompt_template.format(language = language, question=query, context=context).strip()\n",
    "    return prompt\n",
    "\n",
    "def llm_response(prompt):\n",
    "    response = llm_client.chat.completions.create(\n",
    "        model=config['RAG_model']['model_name'],\n",
    "        messages=[{\"role\": \"user\", \"content\": prompt}]\n",
    "    )\n",
    "    \n",
    "    return response.choices[0].message.content\n",
    "\n",
    "def rag(query):\n",
    "    search_results = search_nodes(query)\n",
    "    prompt = build_prompt(query, search_results)\n",
    "    answer = llm_response(prompt)\n",
    "    return answer"
   ]
  },
  {
   "cell_type": "code",
   "execution_count": 33,
   "metadata": {},
   "outputs": [
    {
     "name": "stdout",
     "output_type": "stream",
     "text": [
      "*** Статья 259. Находка\n",
      " \n",
      "1. Нашедший потерянную вещь обязан немедленно уведомить об этом лицо, потерявшее ее, или собственника вещи или кого-либо другого из известных ему лиц, имеющих право получить ее, и возвратить найденную вещь этому лицу.\n",
      "Если вещь найдена в помещении или на транспорте, она подлежит сдаче лицу, представляющему владельца этого помещения или средства транспорта. Лицо, которому сдана находка, приобретает права и несет обязанности лица, нашедшего вещь.\n",
      "Археологические находки, относящиеся к историко-культурным ценностям, являются государственной собственностью и подлежат передаче в государственную собственность в порядке, определяемом законом.\n",
      "2. Если лицо, имеющее право потребовать возврата найденной вещи, или его местопребывание неизвестны, нашедший вещь обязан заявить о находке в милицию или органу местного самоуправления.\n",
      "3. Нашедший вещь вправе хранить ее у себя либо сдать на хранение в милицию, соответствующему государственному органу или указанному ими лицу.\n",
      "4. Нашедший вещь отвечает за ее утрату или порчу лишь в случае умысла или грубой неосторожности и в пределах стоимости вещи.\n",
      "5. Если в течение трех месяцев с момента заявления о находке милиции или органу местного самоуправления лицо, управомоченное на получение утерянной вещи, не будет установлено и не заявит о своем праве на вещь нашедшему ее лицу либо органу внутренних дел или органу местного самоуправления, нашедший вещь приобретает право собственности на нее.\n",
      "Если нашедший вещь откажется от приобретения найденной вещи в собственность, она поступает в муниципальную собственность.\n",
      "(В редакции Закона КР от 11 апреля 2023 года № 86)\n",
      " \n",
      "*** Статья 137. Пытки\n",
      " \n",
      "1. Причинение какому-либо лицу физических или психических страданий с целью получить от него или от другого лица сведения или признания; наказать его за деяние, которое совершило оно или другое лицо или в совершении которого оно подозревается; а равно запугать или принудить его или другое лицо к совершению определенных деяний, или по причине, основанной на дискриминации любого характера, совершенное должностным лицом либо по его подстрекательству, с его ведома или молчаливого согласия, –\n",
      "наказывается лишением свободы на срок от пяти до восьми лет с лишением права занимать определенные должности либо заниматься определенной деятельностью на срок до трех лет.\n",
      "2. То же деяние, совершенное:\n",
      "1) в отношении женщины, находящейся в состоянии беременности, или ребенка;\n",
      "2) в отношении инвалида или иного лица, находящегося в беспомощном состоянии;\n",
      "3) группой лиц;\n",
      "4) группой лиц по предварительному сговору;\n",
      "5) с особой жестокостью, –\n",
      "наказывается лишением свободы на срок от восьми до десяти лет с лишением права занимать определенные должности либо заниматься определенной деятельностью на срок до трех лет.\n",
      "3. То же деяние, повлекшее причинение тяжкого вреда здоровью или по неосторожности смерть потерпевшего, –\n",
      "наказывается лишением свободы на срок от десяти до двенадцати лет с лишением права занимать определенные должности либо заниматься определенной деятельностью на срок до трех лет.\n",
      " \n",
      "*** Статья 796. Гарантии платежа (аваль)\n",
      " \n",
      "1. Платеж по чеку может быть гарантирован полностью или частично посредством гарантии платежа (аваля).\n",
      "Гарантия платежа по чеку (аваль) может даваться любым лицом, за исключением плательщика.\n",
      "2. Аваль проставляется на лицевой стороне чека или на дополнительном листе путем надписи \"считать за аваль\" и указания, кем и за кого он дан. Если не указано, за кого он дан, то считается, что аваль дан за чекодателя.\n",
      "Аваль подписывается авалистом с указанием своего адреса (места нахождения) и даты совершения надписи.\n",
      "3. Авалист отвечает так же, как и тот, за кого он дал аваль (статья 313).\n",
      "Его обязательство действительно даже в том случае, если обязательство, которое он гарантировал, окажется недействительным по какому бы то ни было основанию, иному, чем дефект формы.\n",
      "4. Авалист, оплативший чек, приобретает права, вытекающие из чека, против того, за кого он дал гарантию, и против тех, кто обязан перед последним.\n",
      " \n",
      "*** Статья 930. Последствия нарушения правил об обязательном страховании\n",
      "1. Лицо, в пользу которого по закону должно быть осуществлено обязательное страхование, вправе, если ему известно, что страхование не осуществлено, потребовать в судебном порядке его осуществления лицом, на которое возложена обязанность страхования в качестве страхователя.\n",
      "2. Если лицо, на которое возложена обязанность страхования в качестве страхователя, не осуществило страхование или заключило договор страхования на условиях, ухудшающих положение выгодоприобретателя по сравнению с условиями, определенными законом, оно при наступлении страхового случая несет ответственность перед выгодоприобретателем на тех же условиях, на каких должно было бы быть выплачено страховое возмещение при надлежащем страховании. Такая ответственность не освобождает его от ответственности перед выгодоприобретателем (потерпевшим) по другим основаниям (по трудовому или иному договору либо вследствие причинения вреда).\n",
      "3. Суммы, неосновательно сбереженные лицом, на которое возложена обязанность страхования в качестве страхователя, благодаря тому, что оно не выполнило эту обязанность либо выполнило ее ненадлежащим образом, взыскиваются по иску органов Государственного страхового надзора в доход Кыргызской Республики с начислением процентов в соответствии с пунктом 1 статьи 360 настоящего Кодекса.\n",
      " \n",
      "*** Статья 34. Служебная и коммерческая тайна\n",
      " \n",
      "Гражданским законодательством защищается информация, составляющая служебную или коммерческую тайну, в случае, когда информация имеет действительную или потенциальную коммерческую ценность в силу неизвестности ее третьим лицам, к ней нет свободного доступа на законном основании и обладатель информации принимает меры к охране ее конфиденциальности.\n",
      "Лица, незаконными методами получившие такую информацию, а также служащие - вопреки трудовому договору или контрагенты - вопреки гражданско-правовому договору, разгласившие служебную или коммерческую тайну, обязаны возместить причиненный ущерб.\n",
      " \n",
      "*** Статья 1103. Переход права на защиту нераскрытой информации от незаконного использования\n",
      "Лицо, обладающее нераскрытой информацией, может передать все или часть сведений, составляющих содержание этой информации, другому лицу по лицензионному договору.\n",
      "Лицензиат обязан принимать надлежащие меры к охране конфиденциальности информации, полученной по договору, и имеет те же права на ее защиту от незаконного использования третьими лицами, что и лицензиар. Поскольку в договоре не предусмотрено иное, обязанность сохранять конфиденциальность информации лежит на лицензиате и после прекращения лицензионного договора, если соответствующие сведения продолжают оставаться нераскрытой информацией.\n",
      " \n",
      "*** Статья 1101. Право на защиту нераскрытой информации\n",
      " \n",
      "Лицо, правомерно обладающее технической, организационной или коммерческой информацией, в том числе секретами производства (ноу-хау), неизвестной третьим лицам (нераскрытая информация), имеет право на защиту этой информации от незаконного использования, если соблюдены условия, установленные статьей 34 настоящего Кодекса.\n",
      "Право на защиту нераскрытой информации от незаконного использования возникает независимо от выполнения в отношении этой информации каких-либо формальностей (ее регистрации, получения свидетельств и т.п.).\n",
      "Правила о защите нераскрытой информации не применяются в отношении сведений, которые в соответствии с законом не могут составлять служебную или коммерческую тайну (сведения о юридических лицах, правах на имущество и сделках с ним, подлежащие государственной регистрации, сведения, подлежащие представлению в качестве государственной статистической отчетности и др.).\n",
      "Право на защиту нераскрытой информации действует до тех пор, пока сохраняются условия, предусмотренные статьей 34 настоящего Кодекса.\n",
      " \n",
      "*** Статья 277. Нарушение законодательства об электроэнергетике\n",
      " \n",
      "1. Нарушение потребителем правил пользования электроэнергией –\n",
      "влечет наложение штрафа на физических лиц в размере 30 расчетных показателей, на юридических лиц – 130 расчетных показателей.\n",
      "2. Нарушение правил охраны электрических сетей –\n",
      "влечет предупреждение или наложение штрафа на физических лиц в размере 30 расчетных показателей, на юридических лиц – 130 расчетных показателей.\n",
      "3. Нарушение правил технической эксплуатации электрических станций или сетей, энергетического оборудования объектов электроэнергетики, подключенных к объединенной энергетической системе, или энергетического оборудования потребителей –\n",
      "влечет предупреждение или наложение штрафа на физических лиц в размере 30 расчетных показателей, на юридических лиц – 130 расчетных показателей.\n",
      " \n",
      "*** Статья 952. Выполнение обязанностей по договору страхователем и выгодоприобретателем\n",
      " \n",
      "1. Заключение договора страхования в пользу выгодоприобретателя, в том числе и тогда, когда выгодоприобретателем является застрахованное лицо, не освобождает страхователя от выполнения обязанностей по этому договору, если только договором не предусмотрено иное либо обязанности страхователя выполнены лицом, в пользу которого заключен договор.\n",
      "2. При предъявлении выгодоприобретателем требования о выплате страхового возмещения страховщик вправе потребовать от него, в том числе и тогда, когда выгодоприобретателем является застрахованное лицо, выполнения обязанностей по договору страхования, включая обязанности, лежащие на страхователе, но не выполненные им. Риск последствий невыполнения или несвоевременного выполнения обязанностей, которые должны были быть выполнены ранее, несет выгодоприобретатель.\n",
      " \n",
      "*** Статья 438. Налоговая база\n",
      "Если иное не предусмотрено настоящей статьей, базой обложения налогом на майнинг являются начисленные суммы за электроэнергию, потребленную при майнинге, включая НДС и налог с продаж.\n",
      "При использовании собственной электроэнергии базой обложения является сумма произведения объема потребленной электроэнергии на тариф, установленный на электроэнергию для майнинга.\n"
     ]
    }
   ],
   "source": [
    "query = \"Hho is Elon Mask?\"\n",
    "for res in search_nodes(query):\n",
    "    print('***', res.text)"
   ]
  },
  {
   "cell_type": "code",
   "execution_count": 34,
   "metadata": {},
   "outputs": [
    {
     "name": "stdout",
     "output_type": "stream",
     "text": [
      "The provided context does not contain any information about Elon Musk. Therefore, a response to the question cannot be formulated based on the document \"Налоговый кодекс Кыргызской Республики,\" \"Гражданский Кодекс КР,\" or any other legislation mentioned.\n"
     ]
    }
   ],
   "source": [
    "answer = rag(query)\n",
    "print(answer)"
   ]
  },
  {
   "cell_type": "markdown",
   "metadata": {},
   "source": [
    "# Evaluation-data-generation"
   ]
  },
  {
   "cell_type": "code",
   "execution_count": 66,
   "metadata": {},
   "outputs": [
    {
     "data": {
      "text/plain": [
       "(50, 3)"
      ]
     },
     "execution_count": 66,
     "metadata": {},
     "output_type": "execute_result"
    }
   ],
   "source": [
    "# from random import randint\n",
    "\n",
    "# numder_of_articles = 50\n",
    "\n",
    "# f = True\n",
    "# while f:\n",
    "#     l = [randint(1, len(nodes)) for _ in range(numder_of_articles)]\n",
    "#     if len(set(l)) == numder_of_articles:\n",
    "#         f=False\n",
    "\n",
    "# sample = [nodes[i] for i in l]\n",
    "\n",
    "# data = []\n",
    "\n",
    "# for node in sample:\n",
    "#     data.append({\n",
    "#         'id': node.id_,\n",
    "#         'law_name': node.metadata['file_name'],\n",
    "#         'article': node.text\n",
    "#     })\n",
    "\n",
    "# df = pd.DataFrame(data)\n",
    "# df.to_csv('..\\\\data\\\\ground_truth.csv', index=False)\n",
    "# df.shape"
   ]
  },
  {
   "cell_type": "code",
   "execution_count": 67,
   "metadata": {},
   "outputs": [],
   "source": [
    "# df = pd.read_csv('..\\\\data\\\\ground_truth.csv')\n",
    "# documents = df.to_dict(orient='records')"
   ]
  },
  {
   "cell_type": "code",
   "execution_count": 83,
   "metadata": {},
   "outputs": [],
   "source": [
    "# question_generator_prompt_template = \"\"\"\n",
    "# You emulate a user of our legal advisor on legislation of Kyrgyz Republic application.\n",
    "# Formulate 3 questions this user might ask based on a provided article of the law.\n",
    "# Make the questions specific to the provided record. Don't reffer to the number of the article of the law.\n",
    "# The record should contain the answer to the questions, and the questions should be complete and not too short.\n",
    "# Use as fewer words as possible from the record. \n",
    "\n",
    "# The record:\n",
    "\n",
    "# Law name: {law_name}\n",
    "# Article of the law: {article}\n",
    "\n",
    "# Provide the output in parsable JSON without using code blocks:\n",
    "\n",
    "# {{\"questions\": [\"question1\", \"question2\", \"question3\"]}}\n",
    "# \"\"\".strip()"
   ]
  },
  {
   "cell_type": "code",
   "execution_count": 90,
   "metadata": {},
   "outputs": [
    {
     "data": {
      "application/vnd.jupyter.widget-view+json": {
       "model_id": "5f6ca02fffda4983b54125e3cd289497",
       "version_major": 2,
       "version_minor": 0
      },
      "text/plain": [
       "  0%|          | 0/50 [00:00<?, ?it/s]"
      ]
     },
     "metadata": {},
     "output_type": "display_data"
    }
   ],
   "source": [
    "# def llm_response(prompt):\n",
    "#     response = llm_client.chat.completions.create(\n",
    "#         model=config['RAG_model']['model_name'],\n",
    "#         messages=[{\"role\": \"user\", \"content\": prompt}]\n",
    "#     )\n",
    "    \n",
    "#     return response.choices[0].message.content\n",
    "\n",
    "\n",
    "# def generate_questions(doc):\n",
    "#     question_generator_prompt = question_generator_prompt_template.format(**doc)\n",
    "#     json_response = llm_response(question_generator_prompt)\n",
    "#     return json_response\n",
    "\n",
    "\n",
    "# results = {}\n",
    "\n",
    "# for doc in tqdm(documents): \n",
    "#     doc_id = doc['id']\n",
    "#     if doc_id in results:\n",
    "#         continue\n",
    "\n",
    "#     questions_raw = generate_questions(doc)\n",
    "#     questions = json.loads(questions_raw)\n",
    "#     results[doc_id] = questions['questions']"
   ]
  },
  {
   "cell_type": "code",
   "execution_count": 91,
   "metadata": {},
   "outputs": [
    {
     "data": {
      "text/plain": [
       "(150, 2)"
      ]
     },
     "execution_count": 91,
     "metadata": {},
     "output_type": "execute_result"
    }
   ],
   "source": [
    "# final_results = []\n",
    "\n",
    "# for doc_id, questions in results.items():\n",
    "#     for q in questions:\n",
    "#         final_results.append((doc_id, q))\n",
    "\n",
    "# df_questions = pd.DataFrame(final_results, columns=['id', 'question'])\n",
    "# df_questions.to_csv('../data/ground-truth-questions.csv', index=False)\n",
    "# df_questions.shape"
   ]
  },
  {
   "cell_type": "markdown",
   "metadata": {},
   "source": [
    "# Retrieval evaluation"
   ]
  },
  {
   "cell_type": "code",
   "execution_count": 12,
   "metadata": {},
   "outputs": [
    {
     "data": {
      "text/html": [
       "<div>\n",
       "<style scoped>\n",
       "    .dataframe tbody tr th:only-of-type {\n",
       "        vertical-align: middle;\n",
       "    }\n",
       "\n",
       "    .dataframe tbody tr th {\n",
       "        vertical-align: top;\n",
       "    }\n",
       "\n",
       "    .dataframe thead th {\n",
       "        text-align: right;\n",
       "    }\n",
       "</style>\n",
       "<table border=\"1\" class=\"dataframe\">\n",
       "  <thead>\n",
       "    <tr style=\"text-align: right;\">\n",
       "      <th></th>\n",
       "      <th>id</th>\n",
       "      <th>question</th>\n",
       "      <th>law_name</th>\n",
       "      <th>article</th>\n",
       "      <th>new_id</th>\n",
       "    </tr>\n",
       "  </thead>\n",
       "  <tbody>\n",
       "    <tr>\n",
       "      <th>9</th>\n",
       "      <td>74688912-792b-4de9-966a-ee2c76d91006</td>\n",
       "      <td>What can a lender demand if the borrower fails...</td>\n",
       "      <td>Гражданский Кодекс КР Часть II</td>\n",
       "      <td>Статья 730. Обеспечение исполнения обязательст...</td>\n",
       "      <td>3fdb1a03-dc6d-4c48-9d66-aa632b173948</td>\n",
       "    </tr>\n",
       "    <tr>\n",
       "      <th>122</th>\n",
       "      <td>21ec195b-1ef9-4bfb-b4be-c2d8abf2e165</td>\n",
       "      <td>Is there a minimum period for filing an appell...</td>\n",
       "      <td>Гражданский процессуальный кодекс Кыргызской Р...</td>\n",
       "      <td>Статья 237. Обжалование заочного решения\\r\\n1....</td>\n",
       "      <td>d57aae71-032b-4a61-a513-e12f717ecbed</td>\n",
       "    </tr>\n",
       "  </tbody>\n",
       "</table>\n",
       "</div>"
      ],
      "text/plain": [
       "                                       id  \\\n",
       "9    74688912-792b-4de9-966a-ee2c76d91006   \n",
       "122  21ec195b-1ef9-4bfb-b4be-c2d8abf2e165   \n",
       "\n",
       "                                              question  \\\n",
       "9    What can a lender demand if the borrower fails...   \n",
       "122  Is there a minimum period for filing an appell...   \n",
       "\n",
       "                                              law_name  \\\n",
       "9                       Гражданский Кодекс КР Часть II   \n",
       "122  Гражданский процессуальный кодекс Кыргызской Р...   \n",
       "\n",
       "                                               article  \\\n",
       "9    Статья 730. Обеспечение исполнения обязательст...   \n",
       "122  Статья 237. Обжалование заочного решения\\r\\n1....   \n",
       "\n",
       "                                   new_id  \n",
       "9    3fdb1a03-dc6d-4c48-9d66-aa632b173948  \n",
       "122  d57aae71-032b-4a61-a513-e12f717ecbed  "
      ]
     },
     "execution_count": 12,
     "metadata": {},
     "output_type": "execute_result"
    }
   ],
   "source": [
    "# # Getting all nodes from weaviate\n",
    "\n",
    "# import weaviate\n",
    "\n",
    "# # Initialize the Weaviate client\n",
    "# client = weaviate.Client(\n",
    "#     url=weaviate_url,\n",
    "#     auth_client_secret=weaviate.AuthApiKey(api_key=API_KEY)\n",
    "# )\n",
    "\n",
    "# # Function to get all classes in the Weaviate instance\n",
    "# def get_all_classes(client):\n",
    "#     schema = client.schema.get()\n",
    "#     classes = [cls['class'] for cls in schema['classes']]\n",
    "#     return classes\n",
    "\n",
    "# # Function to get all properties of a specific class\n",
    "# def get_class_properties(client, class_name):\n",
    "#     schema = client.schema.get()\n",
    "#     for cls in schema['classes']:\n",
    "#         if cls['class'] == class_name:\n",
    "#             return [prop['name'] for prop in cls['properties']]\n",
    "#     return []\n",
    "\n",
    "# # Function to get all text nodes from a specific class with pagination\n",
    "# def get_all_text_nodes(client, class_name, properties):\n",
    "#     properties_str = ' '.join(properties)\n",
    "#     all_nodes = []\n",
    "#     limit = 100\n",
    "#     offset = 0\n",
    "\n",
    "#     while True:\n",
    "#         query = \"\"\"\n",
    "#         {\n",
    "#             Get {\n",
    "#                 %s(\n",
    "#                     limit: %d\n",
    "#                     offset: %d\n",
    "#                 ) {\n",
    "#                     %s\n",
    "#                     _additional {\n",
    "#                         id\n",
    "#                     }\n",
    "#                 }\n",
    "#             }\n",
    "#         }\n",
    "#         \"\"\" % (class_name, limit, offset, properties_str)\n",
    "\n",
    "#         response = client.query.raw(query)\n",
    "#         nodes = response['data']['Get'][class_name]\n",
    "\n",
    "#         if not nodes:\n",
    "#             break\n",
    "\n",
    "#         all_nodes.extend(nodes)\n",
    "#         offset += limit\n",
    "\n",
    "#     return all_nodes\n",
    "\n",
    "# # Get all classes\n",
    "# classes = get_all_classes(client)\n",
    "# print(\"Available classes:\", classes)\n",
    "\n",
    "# # Choose a class to query (for example, the first class)\n",
    "# if classes:\n",
    "#     class_name = Org #classes[0]\n",
    "#     properties = get_class_properties(client, class_name)\n",
    "#     print(f\"Properties of class '{class_name}':\", properties)\n",
    "\n",
    "#     # Get and print all text nodes from the chosen class\n",
    "#     if properties:\n",
    "#         text_nodes = get_all_text_nodes(client, class_name, properties)\n",
    "#         print(\"Number of text nodes retrieved:\", len(text_nodes))\n",
    "#         # Print first few nodes as an example\n",
    "#         print(\"First few text nodes:\", text_nodes[:5])\n",
    "#     else:\n",
    "#         print(f\"No properties found for class '{class_name}'.\")\n",
    "# else:\n",
    "#     print(\"No classes found in the Weaviate schema.\")\n",
    "\n",
    "\n",
    "# # merging questions with articles on 'id'\n",
    "# df_ar = pd.read_csv('..\\\\data\\\\ground_truth.csv')\n",
    "# df_questions = pd.read_csv('../data/ground-truth-questions.csv')\n",
    "# df = pd.merge(df_questions, df_ar, on='id', how='left')\n",
    "\n",
    "\n",
    "# # merging 'new_id' from text_nodes with questions\n",
    "# df_weaviate = pd.DataFrame(text_nodes)\n",
    "# df_weaviate._additional = df_weaviate._additional.apply(lambda i: i['id'])\n",
    "# df_weaviate=df_weaviate[['_additional', 'text']]\n",
    "# df_weaviate.columns = ['new_id', 'article']\n",
    "# df = pd.merge(df, df_weaviate, on='article', how='left')\n",
    "\n",
    "\n",
    "# df.to_csv('..\\\\data\\\\ground_truth_data.csv', index=False)\n",
    "# df.sample(2)"
   ]
  },
  {
   "cell_type": "code",
   "execution_count": 14,
   "metadata": {},
   "outputs": [
    {
     "data": {
      "text/plain": [
       "dict_keys(['id', 'question', 'law_name', 'article', 'new_id'])"
      ]
     },
     "execution_count": 14,
     "metadata": {},
     "output_type": "execute_result"
    }
   ],
   "source": [
    "df = pd.read_csv('..\\\\data\\\\ground_truth_data.csv')\n",
    "ground_truth = df.to_dict(orient='records')\n",
    "ground_truth[0].keys()"
   ]
  },
  {
   "cell_type": "code",
   "execution_count": 2,
   "metadata": {},
   "outputs": [
    {
     "data": {
      "application/vnd.jupyter.widget-view+json": {
       "model_id": "4d7519fd6b15487c939423130077e5cf",
       "version_major": 2,
       "version_minor": 0
      },
      "text/plain": [
       "tokenizer_config.json:   0%|          | 0.00/405 [00:00<?, ?B/s]"
      ]
     },
     "metadata": {},
     "output_type": "display_data"
    },
    {
     "data": {
      "application/vnd.jupyter.widget-view+json": {
       "model_id": "f016d8a358ad4471b9bfa8ad97ee6544",
       "version_major": 2,
       "version_minor": 0
      },
      "text/plain": [
       "vocab.txt:   0%|          | 0.00/232k [00:00<?, ?B/s]"
      ]
     },
     "metadata": {},
     "output_type": "display_data"
    },
    {
     "data": {
      "application/vnd.jupyter.widget-view+json": {
       "model_id": "64a130ca1426415699d6e69fadf9724f",
       "version_major": 2,
       "version_minor": 0
      },
      "text/plain": [
       "tokenizer.json:   0%|          | 0.00/466k [00:00<?, ?B/s]"
      ]
     },
     "metadata": {},
     "output_type": "display_data"
    },
    {
     "data": {
      "application/vnd.jupyter.widget-view+json": {
       "model_id": "c184ba71dd364d94b7e9a6b0f67536b9",
       "version_major": 2,
       "version_minor": 0
      },
      "text/plain": [
       "special_tokens_map.json:   0%|          | 0.00/112 [00:00<?, ?B/s]"
      ]
     },
     "metadata": {},
     "output_type": "display_data"
    },
    {
     "name": "stderr",
     "output_type": "stream",
     "text": [
      "c:\\Users\\rkizm\\.virtualenvs\\legal-advisor-rag-a8TsuGdb\\Lib\\site-packages\\transformers\\tokenization_utils_base.py:1601: FutureWarning: `clean_up_tokenization_spaces` was not set. It will be set to `True` by default. This behavior will be depracted in transformers v4.45, and will be then set to `False` by default. For more details check this issue: https://github.com/huggingface/transformers/issues/31884\n",
      "  warnings.warn(\n"
     ]
    },
    {
     "data": {
      "application/vnd.jupyter.widget-view+json": {
       "model_id": "3c0860685b684e558a00a39b7cc96911",
       "version_major": 2,
       "version_minor": 0
      },
      "text/plain": [
       "config.json:   0%|          | 0.00/743 [00:00<?, ?B/s]"
      ]
     },
     "metadata": {},
     "output_type": "display_data"
    },
    {
     "data": {
      "application/vnd.jupyter.widget-view+json": {
       "model_id": "e09f22e076b84fc3afbd83a52d5c561c",
       "version_major": 2,
       "version_minor": 0
      },
      "text/plain": [
       "model.safetensors:   0%|          | 0.00/438M [00:00<?, ?B/s]"
      ]
     },
     "metadata": {},
     "output_type": "display_data"
    }
   ],
   "source": [
    "from llama_index.postprocessor.colbert_rerank import ColbertRerank\n",
    "\n",
    "colbert_reranker = ColbertRerank(\n",
    "    top_n=5,\n",
    "    model=\"colbert-ir/colbertv2.0\",\n",
    "    tokenizer=\"colbert-ir/colbertv2.0\",\n",
    "    keep_retrieval_score=True,\n",
    ")"
   ]
  },
  {
   "cell_type": "code",
   "execution_count": null,
   "metadata": {},
   "outputs": [],
   "source": [
    "# %pip install git+https://github.com/alekssamos/yandexfreetranslate.git\n",
    "# %pip install yandexfreetranslate"
   ]
  },
  {
   "cell_type": "code",
   "execution_count": null,
   "metadata": {},
   "outputs": [],
   "source": [
    "from yandexfreetranslate import YandexFreeTranslate\n",
    "yt = YandexFreeTranslate(api='ios') #Работает только так\n",
    "\n",
    "def ru(txt):\n",
    "  return yt.translate(\"en\", \"ru\", txt)\n",
    "\n",
    "def en(txt):\n",
    "  return yt.translate(\"ru\", \"en\", txt)"
   ]
  },
  {
   "cell_type": "code",
   "execution_count": 20,
   "metadata": {},
   "outputs": [],
   "source": [
    "def hit_rate(relevance_total):\n",
    "    cnt = 0\n",
    "\n",
    "    for line in relevance_total:\n",
    "        if True in line:\n",
    "            cnt = cnt + 1\n",
    "\n",
    "    return cnt / len(relevance_total)\n",
    "\n",
    "\n",
    "def mrr(relevance_total):\n",
    "    total_score = 0.0\n",
    "\n",
    "    for line in relevance_total:\n",
    "        for rank in range(len(line)):\n",
    "            if line[rank] == True:\n",
    "                total_score = total_score + 1 / (rank + 1)\n",
    "\n",
    "    return total_score / len(relevance_total)\n",
    "\n",
    "\n",
    "def evaluate(ground_truth, search_function):\n",
    "    relevance_total = []\n",
    "\n",
    "    for q in tqdm(ground_truth):\n",
    "        doc_id = q['new_id']\n",
    "        results = search_function(q)\n",
    "        relevance = [d.id_ == doc_id for d in results]\n",
    "        relevance_total.append(relevance)\n",
    "\n",
    "    return {\n",
    "        'hit_rate': hit_rate(relevance_total),\n",
    "        'mrr': mrr(relevance_total),\n",
    "    }"
   ]
  },
  {
   "cell_type": "code",
   "execution_count": 21,
   "metadata": {},
   "outputs": [
    {
     "data": {
      "application/vnd.jupyter.widget-view+json": {
       "model_id": "8261e13318754f718b98b2ef0ee958a1",
       "version_major": 2,
       "version_minor": 0
      },
      "text/plain": [
       "  0%|          | 0/150 [00:00<?, ?it/s]"
      ]
     },
     "metadata": {},
     "output_type": "display_data"
    },
    {
     "data": {
      "application/vnd.jupyter.widget-view+json": {
       "model_id": "b682a8832c224086af066c6c3918f7be",
       "version_major": 2,
       "version_minor": 0
      },
      "text/plain": [
       "  0%|          | 0/150 [00:00<?, ?it/s]"
      ]
     },
     "metadata": {},
     "output_type": "display_data"
    },
    {
     "data": {
      "application/vnd.jupyter.widget-view+json": {
       "model_id": "2b755104c6d84af28dc2e492e62ae1d4",
       "version_major": 2,
       "version_minor": 0
      },
      "text/plain": [
       "  0%|          | 0/150 [00:00<?, ?it/s]"
      ]
     },
     "metadata": {},
     "output_type": "display_data"
    },
    {
     "data": {
      "application/vnd.jupyter.widget-view+json": {
       "model_id": "4c0a0ebe68a64aeba7540e7b761bb114",
       "version_major": 2,
       "version_minor": 0
      },
      "text/plain": [
       "  0%|          | 0/150 [00:00<?, ?it/s]"
      ]
     },
     "metadata": {},
     "output_type": "display_data"
    },
    {
     "data": {
      "application/vnd.jupyter.widget-view+json": {
       "model_id": "6cef8e330cb94686a706385236a5529e",
       "version_major": 2,
       "version_minor": 0
      },
      "text/plain": [
       "  0%|          | 0/150 [00:00<?, ?it/s]"
      ]
     },
     "metadata": {},
     "output_type": "display_data"
    },
    {
     "data": {
      "application/vnd.jupyter.widget-view+json": {
       "model_id": "814b61d80e294de2a87a20e6e3575bab",
       "version_major": 2,
       "version_minor": 0
      },
      "text/plain": [
       "  0%|          | 0/150 [00:00<?, ?it/s]"
      ]
     },
     "metadata": {},
     "output_type": "display_data"
    },
    {
     "data": {
      "application/vnd.jupyter.widget-view+json": {
       "model_id": "852c05d8ce80439185bc4c83aa771f18",
       "version_major": 2,
       "version_minor": 0
      },
      "text/plain": [
       "  0%|          | 0/150 [00:00<?, ?it/s]"
      ]
     },
     "metadata": {},
     "output_type": "display_data"
    },
    {
     "data": {
      "application/vnd.jupyter.widget-view+json": {
       "model_id": "1129bd04f25c4ad5a6c86b2a168444c5",
       "version_major": 2,
       "version_minor": 0
      },
      "text/plain": [
       "  0%|          | 0/150 [00:00<?, ?it/s]"
      ]
     },
     "metadata": {},
     "output_type": "display_data"
    },
    {
     "data": {
      "application/vnd.jupyter.widget-view+json": {
       "model_id": "2bea9a7c19754f348ae788afe321c63b",
       "version_major": 2,
       "version_minor": 0
      },
      "text/plain": [
       "  0%|          | 0/150 [00:00<?, ?it/s]"
      ]
     },
     "metadata": {},
     "output_type": "display_data"
    },
    {
     "data": {
      "application/vnd.jupyter.widget-view+json": {
       "model_id": "53d93518b3a046fd85698bcac4328144",
       "version_major": 2,
       "version_minor": 0
      },
      "text/plain": [
       "  0%|          | 0/150 [00:00<?, ?it/s]"
      ]
     },
     "metadata": {},
     "output_type": "display_data"
    },
    {
     "data": {
      "application/vnd.jupyter.widget-view+json": {
       "model_id": "e0fe6060152440d29a9e2bc5de29fc86",
       "version_major": 2,
       "version_minor": 0
      },
      "text/plain": [
       "  0%|          | 0/150 [00:00<?, ?it/s]"
      ]
     },
     "metadata": {},
     "output_type": "display_data"
    },
    {
     "data": {
      "application/vnd.jupyter.widget-view+json": {
       "model_id": "02099b2141ae4e2bb128e6c32df8f5a0",
       "version_major": 2,
       "version_minor": 0
      },
      "text/plain": [
       "  0%|          | 0/150 [00:00<?, ?it/s]"
      ]
     },
     "metadata": {},
     "output_type": "display_data"
    },
    {
     "data": {
      "application/vnd.jupyter.widget-view+json": {
       "model_id": "837161521bfa442d9237b6dc2124bd1c",
       "version_major": 2,
       "version_minor": 0
      },
      "text/plain": [
       "  0%|          | 0/150 [00:00<?, ?it/s]"
      ]
     },
     "metadata": {},
     "output_type": "display_data"
    },
    {
     "data": {
      "application/vnd.jupyter.widget-view+json": {
       "model_id": "ec52f17bfe0c430f8f93e6abb5b20cdd",
       "version_major": 2,
       "version_minor": 0
      },
      "text/plain": [
       "  0%|          | 0/150 [00:00<?, ?it/s]"
      ]
     },
     "metadata": {},
     "output_type": "display_data"
    },
    {
     "data": {
      "application/vnd.jupyter.widget-view+json": {
       "model_id": "50c87d5c0b73453b821f897c1e302e27",
       "version_major": 2,
       "version_minor": 0
      },
      "text/plain": [
       "  0%|          | 0/150 [00:00<?, ?it/s]"
      ]
     },
     "metadata": {},
     "output_type": "display_data"
    },
    {
     "data": {
      "application/vnd.jupyter.widget-view+json": {
       "model_id": "8ee64d07701b4d8e821ce304a0315acf",
       "version_major": 2,
       "version_minor": 0
      },
      "text/plain": [
       "  0%|          | 0/150 [00:00<?, ?it/s]"
      ]
     },
     "metadata": {},
     "output_type": "display_data"
    },
    {
     "data": {
      "application/vnd.jupyter.widget-view+json": {
       "model_id": "983a342b97ef41349bdd50a39d01b071",
       "version_major": 2,
       "version_minor": 0
      },
      "text/plain": [
       "  0%|          | 0/150 [00:00<?, ?it/s]"
      ]
     },
     "metadata": {},
     "output_type": "display_data"
    },
    {
     "data": {
      "application/vnd.jupyter.widget-view+json": {
       "model_id": "aab76cd9e9d84728872408461cb47f62",
       "version_major": 2,
       "version_minor": 0
      },
      "text/plain": [
       "  0%|          | 0/150 [00:00<?, ?it/s]"
      ]
     },
     "metadata": {},
     "output_type": "display_data"
    },
    {
     "data": {
      "application/vnd.jupyter.widget-view+json": {
       "model_id": "7171bfd522ab44c8b6d2c6e40d02d3c0",
       "version_major": 2,
       "version_minor": 0
      },
      "text/plain": [
       "  0%|          | 0/150 [00:00<?, ?it/s]"
      ]
     },
     "metadata": {},
     "output_type": "display_data"
    },
    {
     "data": {
      "application/vnd.jupyter.widget-view+json": {
       "model_id": "b1170e03ee2448abbf11c84116ee285c",
       "version_major": 2,
       "version_minor": 0
      },
      "text/plain": [
       "  0%|          | 0/150 [00:00<?, ?it/s]"
      ]
     },
     "metadata": {},
     "output_type": "display_data"
    },
    {
     "data": {
      "application/vnd.jupyter.widget-view+json": {
       "model_id": "b3190c511c5a4f44a11e204dd3430378",
       "version_major": 2,
       "version_minor": 0
      },
      "text/plain": [
       "  0%|          | 0/150 [00:00<?, ?it/s]"
      ]
     },
     "metadata": {},
     "output_type": "display_data"
    },
    {
     "data": {
      "application/vnd.jupyter.widget-view+json": {
       "model_id": "e73fba0d440843e6b887f457e9333b8a",
       "version_major": 2,
       "version_minor": 0
      },
      "text/plain": [
       "  0%|          | 0/150 [00:00<?, ?it/s]"
      ]
     },
     "metadata": {},
     "output_type": "display_data"
    },
    {
     "data": {
      "application/vnd.jupyter.widget-view+json": {
       "model_id": "cf099dd2f9ba491683df2ee0954c3e4b",
       "version_major": 2,
       "version_minor": 0
      },
      "text/plain": [
       "  0%|          | 0/150 [00:00<?, ?it/s]"
      ]
     },
     "metadata": {},
     "output_type": "display_data"
    },
    {
     "data": {
      "application/vnd.jupyter.widget-view+json": {
       "model_id": "542ffd333536426b83233a5049967104",
       "version_major": 2,
       "version_minor": 0
      },
      "text/plain": [
       "  0%|          | 0/150 [00:00<?, ?it/s]"
      ]
     },
     "metadata": {},
     "output_type": "display_data"
    },
    {
     "data": {
      "application/vnd.jupyter.widget-view+json": {
       "model_id": "07c17d550f64434ba131a56a28bfa86f",
       "version_major": 2,
       "version_minor": 0
      },
      "text/plain": [
       "  0%|          | 0/150 [00:00<?, ?it/s]"
      ]
     },
     "metadata": {},
     "output_type": "display_data"
    },
    {
     "data": {
      "application/vnd.jupyter.widget-view+json": {
       "model_id": "4a40a4953a9c424f890f540db205242d",
       "version_major": 2,
       "version_minor": 0
      },
      "text/plain": [
       "  0%|          | 0/150 [00:00<?, ?it/s]"
      ]
     },
     "metadata": {},
     "output_type": "display_data"
    },
    {
     "data": {
      "application/vnd.jupyter.widget-view+json": {
       "model_id": "cf7bbfdff6bd4ecd898bff159c648baf",
       "version_major": 2,
       "version_minor": 0
      },
      "text/plain": [
       "  0%|          | 0/150 [00:00<?, ?it/s]"
      ]
     },
     "metadata": {},
     "output_type": "display_data"
    },
    {
     "data": {
      "application/vnd.jupyter.widget-view+json": {
       "model_id": "325701d9317e48c4a6f48ba7d3465493",
       "version_major": 2,
       "version_minor": 0
      },
      "text/plain": [
       "  0%|          | 0/150 [00:00<?, ?it/s]"
      ]
     },
     "metadata": {},
     "output_type": "display_data"
    },
    {
     "data": {
      "application/vnd.jupyter.widget-view+json": {
       "model_id": "2c0905fc001949e0acddf4b50fdf3d42",
       "version_major": 2,
       "version_minor": 0
      },
      "text/plain": [
       "  0%|          | 0/150 [00:00<?, ?it/s]"
      ]
     },
     "metadata": {},
     "output_type": "display_data"
    },
    {
     "data": {
      "application/vnd.jupyter.widget-view+json": {
       "model_id": "a5c6d87989de4ce1a73171cdcda67c89",
       "version_major": 2,
       "version_minor": 0
      },
      "text/plain": [
       "  0%|          | 0/150 [00:00<?, ?it/s]"
      ]
     },
     "metadata": {},
     "output_type": "display_data"
    }
   ],
   "source": [
    "alphas = [0.1 * i for i in range(1, 11)]\n",
    "\n",
    "df_retrieval_eval = pd.DataFrame(columns=['alpha', 'hit_rate', 'mrr'])\n",
    "for alpha in alphas:\n",
    "    retriever = VectorIndexRetriever(\n",
    "        index,\n",
    "        vector_store_query_mode=\"hybrid\",\n",
    "        similarity_top_k = config['Retriever']['similarity_top_k'],\n",
    "        alpha = round(alpha, 1),\n",
    "        similarity_threshold = 5,\n",
    "        )\n",
    "    \n",
    "    def search_nodes(query):\n",
    "        return retriever.retrieve(query['question'])\n",
    "\n",
    "    eval_res = evaluate(ground_truth, search_nodes)\n",
    "\n",
    "    df_retrieval_eval.loc[len(df_retrieval_eval)] = {'alpha': round(alpha, 1),\n",
    "                                                    'hit_rate': eval_res['hit_rate'],\n",
    "                                                    'mrr':eval_res['mrr']}\n",
    "\n",
    "\n",
    "df_retrieval_eval_ru = pd.DataFrame(columns=['alpha', 'hit_rate_ru_query', 'mrr_ru_query'])\n",
    "for alpha in alphas:\n",
    "    retriever = VectorIndexRetriever(\n",
    "        index,\n",
    "        vector_store_query_mode=\"hybrid\",\n",
    "        similarity_top_k = config['Retriever']['similarity_top_k'],\n",
    "        alpha = round(alpha, 1),\n",
    "        similarity_threshold = 5,\n",
    "        )\n",
    "    \n",
    "    def search_nodes(query):\n",
    "        return retriever.retrieve(ru(query['question']))\n",
    "\n",
    "    eval_res = evaluate(ground_truth, search_nodes)\n",
    "\n",
    "    df_retrieval_eval_ru.loc[len(df_retrieval_eval_ru)] = {'alpha': round(alpha, 1),\n",
    "                                                           'hit_rate_ru_query': eval_res['hit_rate'],\n",
    "                                                           'mrr_ru_query':eval_res['mrr']}\n",
    "df_retrieval_eval = pd.merge(df_retrieval_eval, df_retrieval_eval_ru, on='alpha', how='left')\n",
    "\n",
    "\n",
    "df_retrieval_eval_rerank = pd.DataFrame(columns=['alpha', 'hit_rate_rerank', 'mrr_rerank'])\n",
    "for alpha in alphas:\n",
    "    retriever = VectorIndexRetriever(\n",
    "        index,\n",
    "        vector_store_query_mode=\"hybrid\",\n",
    "        similarity_top_k = config['Retriever']['similarity_top_k'],\n",
    "        alpha = round(alpha, 1),\n",
    "        similarity_threshold = 10,\n",
    "        node_postprocessors=[colbert_reranker]\n",
    "        )\n",
    "    \n",
    "    def search_nodes(query):\n",
    "        return retriever.retrieve(ru(query['question']))\n",
    "\n",
    "    eval_res = evaluate(ground_truth, search_nodes)\n",
    "\n",
    "    df_retrieval_eval_rerank.loc[len(df_retrieval_eval_rerank)] = {'alpha': round(alpha, 1),\n",
    "                                                                   'hit_rate_rerank': eval_res['hit_rate'],\n",
    "                                                                   'mrr_rerank':eval_res['mrr']}\n",
    "df_retrieval_eval = pd.merge(df_retrieval_eval, df_retrieval_eval_rerank, on='alpha', how='left') "
   ]
  },
  {
   "cell_type": "code",
   "execution_count": 22,
   "metadata": {},
   "outputs": [
    {
     "data": {
      "text/html": [
       "<div>\n",
       "<style scoped>\n",
       "    .dataframe tbody tr th:only-of-type {\n",
       "        vertical-align: middle;\n",
       "    }\n",
       "\n",
       "    .dataframe tbody tr th {\n",
       "        vertical-align: top;\n",
       "    }\n",
       "\n",
       "    .dataframe thead th {\n",
       "        text-align: right;\n",
       "    }\n",
       "</style>\n",
       "<table border=\"1\" class=\"dataframe\">\n",
       "  <thead>\n",
       "    <tr style=\"text-align: right;\">\n",
       "      <th></th>\n",
       "      <th>alpha</th>\n",
       "      <th>hit_rate</th>\n",
       "      <th>mrr</th>\n",
       "      <th>hit_rate_ru_query</th>\n",
       "      <th>mrr_ru_query</th>\n",
       "      <th>hit_rate_rerank</th>\n",
       "      <th>mrr_rerank</th>\n",
       "    </tr>\n",
       "  </thead>\n",
       "  <tbody>\n",
       "    <tr>\n",
       "      <th>0</th>\n",
       "      <td>0.1</td>\n",
       "      <td>0.626667</td>\n",
       "      <td>0.382622</td>\n",
       "      <td>0.686667</td>\n",
       "      <td>0.484405</td>\n",
       "      <td>0.686667</td>\n",
       "      <td>0.484405</td>\n",
       "    </tr>\n",
       "    <tr>\n",
       "      <th>1</th>\n",
       "      <td>0.2</td>\n",
       "      <td>0.626667</td>\n",
       "      <td>0.382622</td>\n",
       "      <td>0.720000</td>\n",
       "      <td>0.516323</td>\n",
       "      <td>0.720000</td>\n",
       "      <td>0.516323</td>\n",
       "    </tr>\n",
       "    <tr>\n",
       "      <th>2</th>\n",
       "      <td>0.3</td>\n",
       "      <td>0.626667</td>\n",
       "      <td>0.382622</td>\n",
       "      <td>0.753333</td>\n",
       "      <td>0.546304</td>\n",
       "      <td>0.753333</td>\n",
       "      <td>0.546304</td>\n",
       "    </tr>\n",
       "    <tr>\n",
       "      <th>3</th>\n",
       "      <td>0.4</td>\n",
       "      <td>0.626667</td>\n",
       "      <td>0.382622</td>\n",
       "      <td>0.793333</td>\n",
       "      <td>0.563156</td>\n",
       "      <td>0.793333</td>\n",
       "      <td>0.563156</td>\n",
       "    </tr>\n",
       "    <tr>\n",
       "      <th>4</th>\n",
       "      <td>0.5</td>\n",
       "      <td>0.633333</td>\n",
       "      <td>0.389288</td>\n",
       "      <td>0.806667</td>\n",
       "      <td>0.564524</td>\n",
       "      <td>0.806667</td>\n",
       "      <td>0.564524</td>\n",
       "    </tr>\n",
       "    <tr>\n",
       "      <th>5</th>\n",
       "      <td>0.6</td>\n",
       "      <td>0.633333</td>\n",
       "      <td>0.389288</td>\n",
       "      <td>0.800000</td>\n",
       "      <td>0.548487</td>\n",
       "      <td>0.800000</td>\n",
       "      <td>0.548487</td>\n",
       "    </tr>\n",
       "    <tr>\n",
       "      <th>6</th>\n",
       "      <td>0.7</td>\n",
       "      <td>0.640000</td>\n",
       "      <td>0.389955</td>\n",
       "      <td>0.766667</td>\n",
       "      <td>0.513161</td>\n",
       "      <td>0.766667</td>\n",
       "      <td>0.513161</td>\n",
       "    </tr>\n",
       "    <tr>\n",
       "      <th>7</th>\n",
       "      <td>0.8</td>\n",
       "      <td>0.640000</td>\n",
       "      <td>0.390122</td>\n",
       "      <td>0.726667</td>\n",
       "      <td>0.487958</td>\n",
       "      <td>0.726667</td>\n",
       "      <td>0.487958</td>\n",
       "    </tr>\n",
       "    <tr>\n",
       "      <th>8</th>\n",
       "      <td>0.9</td>\n",
       "      <td>0.640000</td>\n",
       "      <td>0.390622</td>\n",
       "      <td>0.666667</td>\n",
       "      <td>0.438357</td>\n",
       "      <td>0.666667</td>\n",
       "      <td>0.438357</td>\n",
       "    </tr>\n",
       "    <tr>\n",
       "      <th>9</th>\n",
       "      <td>1.0</td>\n",
       "      <td>0.640000</td>\n",
       "      <td>0.390955</td>\n",
       "      <td>0.633333</td>\n",
       "      <td>0.389579</td>\n",
       "      <td>0.633333</td>\n",
       "      <td>0.389579</td>\n",
       "    </tr>\n",
       "  </tbody>\n",
       "</table>\n",
       "</div>"
      ],
      "text/plain": [
       "   alpha  hit_rate       mrr  hit_rate_ru_query  mrr_ru_query  \\\n",
       "0    0.1  0.626667  0.382622           0.686667      0.484405   \n",
       "1    0.2  0.626667  0.382622           0.720000      0.516323   \n",
       "2    0.3  0.626667  0.382622           0.753333      0.546304   \n",
       "3    0.4  0.626667  0.382622           0.793333      0.563156   \n",
       "4    0.5  0.633333  0.389288           0.806667      0.564524   \n",
       "5    0.6  0.633333  0.389288           0.800000      0.548487   \n",
       "6    0.7  0.640000  0.389955           0.766667      0.513161   \n",
       "7    0.8  0.640000  0.390122           0.726667      0.487958   \n",
       "8    0.9  0.640000  0.390622           0.666667      0.438357   \n",
       "9    1.0  0.640000  0.390955           0.633333      0.389579   \n",
       "\n",
       "   hit_rate_rerank  mrr_rerank  \n",
       "0         0.686667    0.484405  \n",
       "1         0.720000    0.516323  \n",
       "2         0.753333    0.546304  \n",
       "3         0.793333    0.563156  \n",
       "4         0.806667    0.564524  \n",
       "5         0.800000    0.548487  \n",
       "6         0.766667    0.513161  \n",
       "7         0.726667    0.487958  \n",
       "8         0.666667    0.438357  \n",
       "9         0.633333    0.389579  "
      ]
     },
     "execution_count": 22,
     "metadata": {},
     "output_type": "execute_result"
    }
   ],
   "source": [
    "df_retrieval_eval"
   ]
  },
  {
   "cell_type": "markdown",
   "metadata": {},
   "source": [
    "Translations of questions improves the rates of retriever. I will use alpha = 0.5"
   ]
  },
  {
   "cell_type": "markdown",
   "metadata": {},
   "source": [
    "# LLM evaluaion"
   ]
  },
  {
   "cell_type": "code",
   "execution_count": 155,
   "metadata": {},
   "outputs": [],
   "source": [
    "promt_template_1 = \"\"\"\n",
    "You're a legal advisor of Kyrgyz legislation. Without preamble, answer the QUESTION in {language} language based on the provided CONTEXT.\n",
    "Use only the information from the CONTEXT when answering the QUESTION and not prior knowledge.\n",
    "Use only {language} language. Reffer in the answer to the article and the name of the document from wich the context is extracted, but translate them to the {language} language.\n",
    "\n",
    "QUESTION:\n",
    "{question}\n",
    "\n",
    "CONTEXT:\n",
    "{context}\n",
    "\"\"\".strip()\n",
    "\n",
    "promt_template_2 = \"\"\"\n",
    "You're a legal advisor of Kyrgyz legislation. Without preamble, answer the QUESTION in {language} language based on the provided CONTEXT.\n",
    "Use only the information from the CONTEXT when answering the QUESTION and not prior knowledge.\n",
    "Use only {language} language. Reffer in the answer to the article and the name of the document from wich the context is extracted, but translate them to the {language} language.\n",
    "If the CONTEXT is irrelevant to the question or not provided to you, than answer immediately without preamble 'There is no relevant information in database.'. Do not include irrelevan information.\n",
    "<question:>\n",
    "{question}\n",
    "</question>\n",
    "\n",
    "<CONTEXT:>\n",
    "{context}\n",
    "</CONTEXT:>\n",
    "\n",
    "<example>\n",
    "    <question:>\n",
    "        В каких случаях лицо, не являющееся собственником имущества, имеет право на защиту своего владения даже против собственника?\n",
    "    </question>\n",
    "    <CONTEXT:>\n",
    "        Гражданский кодекс Кыргызской Республики. Часть I.\n",
    "        Статья 294. Защита прав владельца, не являющегося собственником\n",
    "        \n",
    "        Права, предусмотренные статьями 289-291 настоящего Кодекса, принадлежат также лицу, хотя и не являющемуся собственником, но владеющему имуществом на праве бессрочного пользования земельным участком, хозяйственного ведения, оперативного управления либо по иному основанию, предусмотренному законом или договором. Это лицо имеет право на защиту его владения также против собственника.\n",
    "        (В редакции Закона КР от 14 марта 2014 года № 49)\n",
    "        \n",
    "        Гражданский кодекс Кыргызской Республики. Часть I.\n",
    "        Статья 265. Приобретательная давность\n",
    "        \n",
    "        1. Гражданин или юридическое лицо, не являющееся собственником имущества, но добросовестно, открыто и непрерывно владеющее как своим собственным недвижимым имуществом в течение пятнадцати лет либо иным имуществом в течение пяти лет, приобретает право собственности на это имущество (приобретательная давность).\n",
    "        Право собственности на недвижимое и иное имущество, подлежащее государственной регистрации, возникает у лица, приобретшего это имущество в силу приобретательной давности, с момента такой регистрации.\n",
    "        2. До приобретения на имущество права собственности в силу приобретательной давности лицо, владеющее имуществом как своим собственным, имеет право на защиту своего владения против третьих лиц, не являющихся собственниками имущества, а также не имеющих прав на владение им в силу иного предусмотренного законом или договором основания.\n",
    "        3. Лицо, ссылающееся на давность владения, может присоединить ко времени своего владения все время, в течение которого этим имуществом владел тот, чьим правопреемником это лицо является.\n",
    "        4. Течение срока приобретательной давности в отношении вещей, находящихся у лица, из владения которого они могли быть истребованы в соответствии со статьями 289-291, 294 настоящего Кодекса, начинается не ранее истечения срока исковой давности по соответствующим требованиям.\n",
    "        5. Признание права собственности на имущество в силу приобретательной давности осуществляется судом.\n",
    "        (В редакции Закона КР от 14 мая 2012 года № 51) \n",
    "        Глава 13\n",
    "        Право общей собственности\n",
    "    </CONTEXT:>\n",
    "    <Answer>\n",
    "        A person who is not the owner of the property has the right to protect their possession against the owner if they possess the property based on the right of perpetual use, economic management, operational management, or any other basis provided by law or contract, as stated in Article 294 of the Civil Code of the Kyrgyz Republic.\n",
    "    </Answer>\n",
    "</example>\n",
    "\n",
    "<example>\\n\n",
    "    <question>Hho is Elon Mask??</question>\n",
    "    <CONTEXT:>\n",
    "        Гражданский кодекс Кыргызской Республики. Часть I.\n",
    "        Статья 259. Находка\n",
    "        \n",
    "        1. Нашедший потерянную вещь обязан немедленно уведомить об этом лицо, потерявшее ее, или собственника вещи или кого-либо другого из известных ему лиц, имеющих право получить ее, и возвратить найденную вещь этому лицу.\n",
    "        Если вещь найдена в помещении или на транспорте, она подлежит сдаче лицу, представляющему владельца этого помещения или средства транспорта. Лицо, которому сдана находка, приобретает права и несет обязанности лица, нашедшего вещь.\n",
    "        Археологические находки, относящиеся к историко-культурным ценностям, являются государственной собственностью и подлежат передаче в государственную собственность в порядке, определяемом законом.\n",
    "        2. Если лицо, имеющее право потребовать возврата найденной вещи, или его местопребывание неизвестны, нашедший вещь обязан заявить о находке в милицию или органу местного самоуправления.\n",
    "        \n",
    "        Налоговый коекс Кыргызской Республики\n",
    "        Статья 438. Налоговая база\n",
    "        Если иное не предусмотрено настоящей статьей, базой обложения налогом на майнинг являются начисленные суммы за электроэнергию, потребленную при майнинге, включая НДС и налог с продаж.\n",
    "        При использовании собственной электроэнергии базой обложения является сумма произведения объема потребленной электроэнергии на тариф, установленный на электроэнергию для майнинга.\n",
    "    </CONTEXT:>\n",
    "    <Answer>There is no relevant information in database.</Answer>\n",
    "</example>\n",
    "\"\"\".strip()\n",
    "\n",
    "\n",
    "promt_template_3 = \"\"\"\n",
    "You're a legal advisor of Kyrgyz legislation. Without preamble, answer the QUESTION in {language} language based on the provided CONTEXT.\n",
    "I'm going to give you a CONTEXT and ask a question about it. Think step-by-step. \n",
    "First, write down exact quotes of parts of the CONTEXT that would help answer the question, reffer in the quotes to the article and the name of the document from wich the context is extracted. Quotes should be relatively short. \n",
    "Second, considering only relevant quotes and using facts from the quoted content, answer the question immediately without preamble. Reffer in the answer to the article and the name of the document from wich the context is extracted, but translate them to the {language} language.\n",
    "Do not include or reference quoted content verbatim in the answer. Don't say 'According to Quote [1]' when answering. \n",
    "Provide only answer that is between the <answer> tags, use only {language} language, don't include tags to the output. Make sure to follow the formatting and spacing exactly.\n",
    "Do not consider irrelevan quotes. If there are no relevant quotes, or the CONTEXT is irrelevant or not provided, than answer immediately without preamble 'There is no relevant information in database.'.\n",
    "\n",
    "<question:>\n",
    "{question}\n",
    "</question>\n",
    "\n",
    "<CONTEXT:>\n",
    "{context}\n",
    "</CONTEXT:>\n",
    "\n",
    "<example>\n",
    "    <question:>\n",
    "        В каких случаях лицо, не являющееся собственником имущества, имеет право на защиту своего владения даже против собственника?\n",
    "    </question>\n",
    "    <CONTEXT:>\n",
    "        Гражданский кодекс Кыргызской Республики. Часть I.\n",
    "        Статья 294. Защита прав владельца, не являющегося собственником\n",
    "        \n",
    "        Права, предусмотренные статьями 289-291 настоящего Кодекса, принадлежат также лицу, хотя и не являющемуся собственником, но владеющему имуществом на праве бессрочного пользования земельным участком, хозяйственного ведения, оперативного управления либо по иному основанию, предусмотренному законом или договором. Это лицо имеет право на защиту его владения также против собственника.\n",
    "        (В редакции Закона КР от 14 марта 2014 года № 49)\n",
    "        \n",
    "        Гражданский кодекс Кыргызской Республики. Часть I.\n",
    "        Статья 265. Приобретательная давность\n",
    "        \n",
    "        1. Гражданин или юридическое лицо, не являющееся собственником имущества, но добросовестно, открыто и непрерывно владеющее как своим собственным недвижимым имуществом в течение пятнадцати лет либо иным имуществом в течение пяти лет, приобретает право собственности на это имущество (приобретательная давность).\n",
    "        Право собственности на недвижимое и иное имущество, подлежащее государственной регистрации, возникает у лица, приобретшего это имущество в силу приобретательной давности, с момента такой регистрации.\n",
    "        2. До приобретения на имущество права собственности в силу приобретательной давности лицо, владеющее имуществом как своим собственным, имеет право на защиту своего владения против третьих лиц, не являющихся собственниками имущества, а также не имеющих прав на владение им в силу иного предусмотренного законом или договором основания.\n",
    "        3. Лицо, ссылающееся на давность владения, может присоединить ко времени своего владения все время, в течение которого этим имуществом владел тот, чьим правопреемником это лицо является.\n",
    "        4. Течение срока приобретательной давности в отношении вещей, находящихся у лица, из владения которого они могли быть истребованы в соответствии со статьями 289-291, 294 настоящего Кодекса, начинается не ранее истечения срока исковой давности по соответствующим требованиям.\n",
    "        5. Признание права собственности на имущество в силу приобретательной давности осуществляется судом.\n",
    "        (В редакции Закона КР от 14 мая 2012 года № 51) \n",
    "        Глава 13\n",
    "        Право общей собственности\n",
    "    </CONTEXT:>\n",
    "    <Relevant Quotes>\n",
    "        <Quote>[1] 'Лицо, не являющееся собственником имущества, имеет право на защиту своего владения даже против собственника в следующих случаях:\\n1) Если оно владеет имуществом на праве бессрочного пользования земельным участком.\\n2) Если оно владеет имуществом на праве хозяйственного ведения.\\n3) Если оно владеет имуществом на праве оперативного управления.\\n4) Если оно владеет имуществом по иному основанию, предусмотренному законом или договором.'</Quote>\n",
    "        <Quote>[2] 'Iinformation is stated in the Article 294 of the Civil Code of the Kyrgyz Republic.'</Quote>\n",
    "    </Relevant Quotes>\n",
    "    <Answer>\n",
    "        A person who is not the owner of the property has the right to protect their possession against the owner if they possess the property based on the right of perpetual use, economic management, operational management, or any other basis provided by law or contract, as stated in Article 294 of the Civil Code of the Kyrgyz Republic.\n",
    "    </Answer>\n",
    "</example>\n",
    "\n",
    "<example>\n",
    "    <question>Hho is Elon Mask??</question>\n",
    "    <CONTEXT:>\n",
    "        Гражданский кодекс Кыргызской Республики. Часть I.\n",
    "        Статья 259. Находка\n",
    "        \n",
    "        1. Нашедший потерянную вещь обязан немедленно уведомить об этом лицо, потерявшее ее, или собственника вещи или кого-либо другого из известных ему лиц, имеющих право получить ее, и возвратить найденную вещь этому лицу.\n",
    "        Если вещь найдена в помещении или на транспорте, она подлежит сдаче лицу, представляющему владельца этого помещения или средства транспорта. Лицо, которому сдана находка, приобретает права и несет обязанности лица, нашедшего вещь.\n",
    "        Археологические находки, относящиеся к историко-культурным ценностям, являются государственной собственностью и подлежат передаче в государственную собственность в порядке, определяемом законом.\n",
    "        2. Если лицо, имеющее право потребовать возврата найденной вещи, или его местопребывание неизвестны, нашедший вещь обязан заявить о находке в милицию или органу местного самоуправления.\n",
    "        \n",
    "        Налоговый коекс Кыргызской Республики\n",
    "        Статья 438. Налоговая база\n",
    "        Если иное не предусмотрено настоящей статьей, базой обложения налогом на майнинг являются начисленные суммы за электроэнергию, потребленную при майнинге, включая НДС и налог с продаж.\n",
    "        При использовании собственной электроэнергии базой обложения является сумма произведения объема потребленной электроэнергии на тариф, установленный на электроэнергию для майнинга.\n",
    "    </CONTEXT:>\n",
    "    <Relevant Quotes>\n",
    "        <Quote>[1]'No relevant quotes'</Quote>\n",
    "    </Relevant Quotes>\n",
    "    <Answer>\n",
    "        There is no relevant information in database.\n",
    "    </Answer>\n",
    "</example>\n",
    "\"\"\".strip()\n",
    "\n",
    "test_prompts = {'promt_template_1': promt_template_1,\n",
    "                'promt_template_2': promt_template_2,\n",
    "                'promt_template_3': promt_template_3}"
   ]
  },
  {
   "cell_type": "code",
   "execution_count": 137,
   "metadata": {},
   "outputs": [],
   "source": [
    "from llama_index.core.retrievers import VectorIndexRetriever\n",
    "\n",
    "retriever = VectorIndexRetriever(\n",
    "    index,\n",
    "    vector_store_query_mode=\"hybrid\",\n",
    "    similarity_top_k = 5,\n",
    "    alpha = 0.5, \n",
    "    similarity_threshold = config['Retriever']['similarity_threshold'],\n",
    "    )\n",
    "\n",
    "def search_nodes(query):\n",
    "    return retriever.retrieve(query)\n",
    "\n",
    "\n",
    "def build_prompt(query, search_results):\n",
    "\n",
    "    nodes_with_scores = [(node, node.score) for node in search_results]\n",
    "    sorted_nodes = sorted(nodes_with_scores, key=lambda x: x[1], reverse=True)\n",
    "    sorted_nodes_only = [node for node, score in sorted_nodes]\n",
    "\n",
    "    context = \"\"\n",
    "    \n",
    "    for nod in sorted_nodes_only:\n",
    "        context = context + nod.metadata['file_name'].replace('txt', '') + '\\n' + nod.text + \"\\n\\n\"\n",
    "\n",
    "    prompt_template = promt_template_3\n",
    "    prompt = prompt_template.format(language = language, question=query, context=context).strip()\n",
    "    return prompt\n",
    "\n",
    "def llm_response(prompt):\n",
    "    response = llm_client.chat.completions.create(\n",
    "        model=config['RAG_model']['model_name'],\n",
    "        messages=[{\"role\": \"user\", \"content\": prompt}]\n",
    "    )\n",
    "    \n",
    "    return response.choices[0].message.content\n",
    "\n",
    "def rag(query):\n",
    "    query = ru(query)\n",
    "    search_results = search_nodes(query)\n",
    "    prompt = build_prompt(query, search_results)\n",
    "    answer = llm_response(prompt)\n",
    "    return answer"
   ]
  },
  {
   "cell_type": "code",
   "execution_count": 108,
   "metadata": {},
   "outputs": [
    {
     "name": "stdout",
     "output_type": "stream",
     "text": [
      "You're a legal advisor of Kyrgyz legislation. Without preamble, answer the QUESTION in English language based on the provided CONTEXT.\n",
      "I'm going to give you a CONTEXT and ask a question about it. Think step-by-step. \n",
      "First, write down exact quotes of parts of the CONTEXT that would help answer the question, reffer in the quotes to the name of the document from wich the context is extracted. Quotes should be relatively short. \n",
      "Second, considering only relevant quotes and using facts from the quoted content, answer the question immediately without preamble. Do not include or reference quoted content verbatim in the answer. Don't say 'According to Quote [1]' when answering. Provide only answer that is between the <answer> tags, use only English language, don't include tags to the output. Make sure to follow the formatting and spacing exactly.\n",
      "Do not consider irrelevan quotes. If there are no relevant quotes, or the CONTEXT is irrelevant or not provided, than answer immediately without preamble 'There is no relevant information in database.'.\n",
      "\n",
      "<question:>\n",
      "В каких случаях предусмотрена уголовная ответственность за подделку или уничтожение идентификационного номера транспортного средства, и какие виды наказания могут быть применены за совершение данного преступления?\n",
      "</question>\n",
      "\n",
      "<CONTEXT:>\n",
      "Кодекс Кыргызской Республики о правонарушениях\n",
      "Статья 514. Особенности ответственности за правонарушения при фиксации правонарушения специальными техническими средствами\n",
      "\n",
      "1. В случае фиксации правонарушения сертифицированными специальными контрольно-измерительными техническими средствами и приборами к ответственности за нарушение в сфере дорожного движения привлекаются собственники (владельцы) транспортных средств.\n",
      "2. Собственник (владелец) транспортного средства освобождается от ответственности за правонарушение, совершенное с участием этого транспортного средства, если в ходе проверки по его сообщению или заявлению будет установлено, что оно выбыло из его владения (пользования) в результате противоправных деяний других лиц до совершения нарушения.\n",
      "3. В случае фиксации нарушения сертифицированными специальными контрольно-измерительными техническими средствами и приборами, имеющими функции фото- и киносъемки, видеофиксации, используемые для выявления установленных допустимых норм весогабаритных параметров транспортных средств для проезда по автомобильным дорогам общего пользования Кыргызской Республики, к ответственности за нарушение установленных весогабаритных параметров транспортных средств привлекаются собственники (владельцы) транспортных средств.\n",
      "(В редакции Закона КР от 24 января 2024 года N 26 )\n",
      "\n",
      " \n",
      "\n",
      "Кодекс Кыргызской Республики о правонарушениях\n",
      "Статья 516. Передача материалов прокурору, органу следствия \n",
      " \n",
      "Если при рассмотрении дела о правонарушении суд или уполномоченный орган установит, что в правонарушении содержатся признаки преступления, он передает материалы прокурору либо органу следствия по подведомственности, о чем вносятся соответствующие сведения в автоматизированную информационную систему (АИС) Единого реестра правонарушений.\n",
      " \n",
      "Глава 54. Процессуальное оформление правонарушений\n",
      " \n",
      "\n",
      "Кодекс Кыргызской Республики о правонарушениях\n",
      "Статья 5642. Порядок и сроки исполнения постановления о лишении права управления транспортными средствами\n",
      " \n",
      "1. Исполнение постановления о лишении права управления транспортными средствами производится путем изъятия и хранения его на срок лишения уполномоченным органом, выдавшим лицу право на управления транспортными средствами.\n",
      "2. Если водитель, лишенный права управления транспортными средствами, уклоняется сдать соответствующее удостоверение, изъятие производится органами внутренних дел в принудительном порядке.\n",
      "3. Срок лишения права управления транспортными средствами исчисляется со дня вступления в законную силу постановления о лишении указанного права.\n",
      "4. Порядок хранения и возвращения удостоверения на право управления транспортными средствами определяется Кабинетом Министров Кыргызской Республикию\n",
      "(В редакции Закона КР от 15 февраля 2023 года № 27)\n",
      " \n",
      " \n",
      "\n",
      "Гражданский Кодекс КР Часть II\n",
      "Статья 578. Ответственность за вред, причиненный транспортному средству\n",
      " \n",
      "В случае гибели или повреждения арендованного транспортного средства арендатор обязан возместить арендодателю причиненные убытки, если последний докажет, что гибель или повреждение транспортного средства произошли по обстоятельствам, за которые арендатор отвечает в соответствии с законом или договором аренды.\n",
      " \n",
      "\n",
      "Уголовный кодекс Кыргызской Республики\n",
      "Статья 380. Подделка, уничтожение идентификационного номера транспортного средства\n",
      " \n",
      "Подделка или уничтожение идентификационного номера, номера кузова, шасси, транспортного средства – \n",
      "наказываются штрафом от 500 до 1000 расчетных показателей либо лишением свободы на срок от двух до пяти лет.\n",
      " \n",
      "\n",
      "\n",
      "</CONTEXT:>\n",
      "\n",
      "<example>\n",
      "    <question:>\n",
      "        В каких случаях лицо, не являющееся собственником имущества, имеет право на защиту своего владения даже против собственника?\n",
      "    </question>\n",
      "    <CONTEXT:>\n",
      "        Гражданский кодекс Кыргызской Республики. Часть I.\n",
      "        Статья 294. Защита прав владельца, не являющегося собственником\n",
      "        \n",
      "        Права, предусмотренные статьями 289-291 настоящего Кодекса, принадлежат также лицу, хотя и не являющемуся собственником, но владеющему имуществом на праве бессрочного пользования земельным участком, хозяйственного ведения, оперативного управления либо по иному основанию, предусмотренному законом или договором. Это лицо имеет право на защиту его владения также против собственника.\n",
      "        (В редакции Закона КР от 14 марта 2014 года № 49)\n",
      "        \n",
      "        Гражданский кодекс Кыргызской Республики. Часть I.\n",
      "        Статья 265. Приобретательная давность\n",
      "        \n",
      "        1. Гражданин или юридическое лицо, не являющееся собственником имущества, но добросовестно, открыто и непрерывно владеющее как своим собственным недвижимым имуществом в течение пятнадцати лет либо иным имуществом в течение пяти лет, приобретает право собственности на это имущество (приобретательная давность).\n",
      "        Право собственности на недвижимое и иное имущество, подлежащее государственной регистрации, возникает у лица, приобретшего это имущество в силу приобретательной давности, с момента такой регистрации.\n",
      "        2. До приобретения на имущество права собственности в силу приобретательной давности лицо, владеющее имуществом как своим собственным, имеет право на защиту своего владения против третьих лиц, не являющихся собственниками имущества, а также не имеющих прав на владение им в силу иного предусмотренного законом или договором основания.\n",
      "        3. Лицо, ссылающееся на давность владения, может присоединить ко времени своего владения все время, в течение которого этим имуществом владел тот, чьим правопреемником это лицо является.\n",
      "        4. Течение срока приобретательной давности в отношении вещей, находящихся у лица, из владения которого они могли быть истребованы в соответствии со статьями 289-291, 294 настоящего Кодекса, начинается не ранее истечения срока исковой давности по соответствующим требованиям.\n",
      "        5. Признание права собственности на имущество в силу приобретательной давности осуществляется судом.\n",
      "        (В редакции Закона КР от 14 мая 2012 года № 51) \n",
      "        Глава 13\n",
      "        Право общей собственности\n",
      "    </CONTEXT:>\n",
      "    <Relevant Quotes>\n",
      "        <Quote>[1] 'Лицо, не являющееся собственником имущества, имеет право на защиту своего владения даже против собственника в следующих случаях:\n",
      "1) Если оно владеет имуществом на праве бессрочного пользования земельным участком.\n",
      "2) Если оно владеет имуществом на праве хозяйственного ведения.\n",
      "3) Если оно владеет имуществом на праве оперативного управления.\n",
      "4) Если оно владеет имуществом по иному основанию, предусмотренному законом или договором.'</Quote>\n",
      "        <Quote>[2] 'It is stated in Article 294 of the Civil Code of the Kyrgyz Republic.'</Quote>\n",
      "    </Relevant Quotes>\n",
      "    <Answer>\n",
      "        A person who is not the owner of the property has the right to protect their possession against the owner if they possess the property based on the right of perpetual use, economic management, operational management, or any other basis provided by law or contract, as stated in Article 294 of the Civil Code of the Kyrgyz Republic.\n",
      "    </Answer>\n",
      "</example>\n",
      "\n",
      "<example>\n",
      "    <question>Hho is Elon Mask??</question>\n",
      "    <CONTEXT:>\n",
      "        Гражданский кодекс Кыргызской Республики. Часть I.\n",
      "        Статья 259. Находка\n",
      "        \n",
      "        1. Нашедший потерянную вещь обязан немедленно уведомить об этом лицо, потерявшее ее, или собственника вещи или кого-либо другого из известных ему лиц, имеющих право получить ее, и возвратить найденную вещь этому лицу.\n",
      "        Если вещь найдена в помещении или на транспорте, она подлежит сдаче лицу, представляющему владельца этого помещения или средства транспорта. Лицо, которому сдана находка, приобретает права и несет обязанности лица, нашедшего вещь.\n",
      "        Археологические находки, относящиеся к историко-культурным ценностям, являются государственной собственностью и подлежат передаче в государственную собственность в порядке, определяемом законом.\n",
      "        2. Если лицо, имеющее право потребовать возврата найденной вещи, или его местопребывание неизвестны, нашедший вещь обязан заявить о находке в милицию или органу местного самоуправления.\n",
      "        \n",
      "        Налоговый коекс Кыргызской Республики\n",
      "        Статья 438. Налоговая база\n",
      "        Если иное не предусмотрено настоящей статьей, базой обложения налогом на майнинг являются начисленные суммы за электроэнергию, потребленную при майнинге, включая НДС и налог с продаж.\n",
      "        При использовании собственной электроэнергии базой обложения является сумма произведения объема потребленной электроэнергии на тариф, установленный на электроэнергию для майнинга.\n",
      "    </CONTEXT:>\n",
      "    <Relevant Quotes>\n",
      "        <Quote>[1]'No relevant quotes'</Quote>\n",
      "    </Relevant Quotes>\n",
      "    <Answer>\n",
      "        There is no relevant information in database.\n",
      "    </Answer>\n",
      "</example>\n"
     ]
    }
   ],
   "source": [
    "query = \"В каких случаях предусмотрена уголовная ответственность за подделку или уничтожение идентификационного номера транспортного средства, и какие виды наказания могут быть применены за совершение данного преступления?\"\n",
    "print(build_prompt(ru(query), search_nodes(query)))"
   ]
  },
  {
   "cell_type": "code",
   "execution_count": 115,
   "metadata": {},
   "outputs": [],
   "source": [
    "import re\n",
    "\n",
    "def remove_tags(input_string: str) -> str:\n",
    "\n",
    "    input_string = input_string.strip()\n",
    "\n",
    "    pattern = r'<[Rr]elevant [Qq]uotes>.*?</[Rr]elevant [Qq]uotes>'\n",
    "    input_string = re.sub(pattern, '', input_string, flags=re.DOTALL)\n",
    "\n",
    "    if '<Answer>' in input_string and '</Answer>' in input_string:\n",
    "\n",
    "        # getting evything between Answer tag\n",
    "        input_string = re.findall(\"<Answer>(.*?)</Answer>\", input_string, re.DOTALL)[0].strip()\n",
    "    \n",
    "    return input_string"
   ]
  },
  {
   "cell_type": "code",
   "execution_count": 111,
   "metadata": {},
   "outputs": [
    {
     "name": "stdout",
     "output_type": "stream",
     "text": [
      "Criminal liability for forgery or destruction of the identification number of a vehicle is stipulated, with penalties including a fine ranging from 500 to 1000 calculated indicators or imprisonment for a term of two to five years, as indicated in Article 380 of the Criminal Code of the Kyrgyz Republic.\n"
     ]
    }
   ],
   "source": [
    "answer = rag(query)\n",
    "print(remove_tags(answer))"
   ]
  },
  {
   "cell_type": "code",
   "execution_count": 138,
   "metadata": {},
   "outputs": [],
   "source": [
    "prompt_judge_template = \"\"\"\n",
    "You are an expert evaluator for a RAG system (Legal Advisor of Kyrgyz legislation) that answers the users questions regarding Kyrgyz Republic legislation.\n",
    "Your task is to analyze the relevance of the generated answer to the given question.\n",
    "Based on the relevance of the Generated answer to the Question and Ground_truth, you will classify it as \"NON_RELEVANT\", \"PARTLY_RELEVANT\", or \"RELEVANT\".\n",
    "\"RELEVANT\" - if Generated answer is relevant to the Question and incledes facts from Ground_truth.\n",
    "\"PARTLY_RELEVANT\" - if Generated answer is partly relevant to the Question or dotsn't incledes facts from Ground_truth.\n",
    "\"NON_RELEVANT\" - if Generated answer is not relevant to the Question or incledes facts that are not provided in the Ground_truth.\n",
    "\n",
    "Here is the data for evaluation:\n",
    "\n",
    "Question: {question}\n",
    "\n",
    "Ground_truth:\n",
    "{ground_truth}\n",
    "\n",
    "Generated Answer:\n",
    "{answer_llm}\n",
    "\n",
    "Please analyze the content and context of the generated answer in relation to the question\n",
    "and provide your evaluation in parsable JSON without using code blocks:\n",
    "\n",
    "{{\n",
    "  \"Relevance\": \"NON_RELEVANT\" | \"PARTLY_RELEVANT\" | \"RELEVANT\",\n",
    "  \"Explanation\": \"[Without preamble provide a brief explanation for your evaluation]\"\n",
    "}}\n",
    "\"\"\".strip()"
   ]
  },
  {
   "cell_type": "code",
   "execution_count": 126,
   "metadata": {},
   "outputs": [
    {
     "data": {
      "text/plain": [
       "dict_keys(['id', 'question', 'law_name', 'article', 'new_id'])"
      ]
     },
     "execution_count": 126,
     "metadata": {},
     "output_type": "execute_result"
    }
   ],
   "source": [
    "df = pd.read_csv('..\\\\data\\\\ground_truth_data.csv')\n",
    "ground_truth = df.to_dict(orient='records')\n",
    "ground_truth[0].keys()"
   ]
  },
  {
   "cell_type": "code",
   "execution_count": 154,
   "metadata": {},
   "outputs": [
    {
     "name": "stdout",
     "output_type": "stream",
     "text": [
      "promt_template_1\n",
      "promt_template_2\n",
      "promt_template_3\n"
     ]
    }
   ],
   "source": [
    "test_prompts = {'promt_template_1': promt_template_1,\n",
    "                'promt_template_2': promt_template_2,\n",
    "                'promt_template_3': promt_template_3}\n",
    "\n",
    "for promt in test_prompts:\n",
    "    print(promt)"
   ]
  },
  {
   "cell_type": "code",
   "execution_count": 167,
   "metadata": {},
   "outputs": [
    {
     "data": {
      "application/vnd.jupyter.widget-view+json": {
       "model_id": "0329954b099a43e1ab910920854ea17c",
       "version_major": 2,
       "version_minor": 0
      },
      "text/plain": [
       "  0%|          | 0/150 [00:00<?, ?it/s]"
      ]
     },
     "metadata": {},
     "output_type": "display_data"
    },
    {
     "data": {
      "application/vnd.jupyter.widget-view+json": {
       "model_id": "0a7c32f0ecd84193836710bbd877afb1",
       "version_major": 2,
       "version_minor": 0
      },
      "text/plain": [
       "  0%|          | 0/150 [00:00<?, ?it/s]"
      ]
     },
     "metadata": {},
     "output_type": "display_data"
    },
    {
     "data": {
      "application/vnd.jupyter.widget-view+json": {
       "model_id": "771ba969a9034b61965e553a3e0956f6",
       "version_major": 2,
       "version_minor": 0
      },
      "text/plain": [
       "  0%|          | 0/150 [00:00<?, ?it/s]"
      ]
     },
     "metadata": {},
     "output_type": "display_data"
    }
   ],
   "source": [
    "evaluations = []\n",
    "\n",
    "def llm_evaluate(prompt):\n",
    "    response = llm_client.chat.completions.create(\n",
    "        model=config['RAG_model']['model_name'],\n",
    "        messages=[{\"role\": \"user\", \"content\": prompt}]\n",
    "    )\n",
    "    \n",
    "    return response.choices[0].message.content\n",
    "\n",
    "\n",
    "for template_name in test_prompts:\n",
    "    prompt_evaluations = []\n",
    "    for record in tqdm(ground_truth):\n",
    "        question = ru(record['question'])\n",
    "\n",
    "        def build_prompt(question, search_results):\n",
    "            nodes_with_scores = [(node, node.score) for node in search_results]\n",
    "            sorted_nodes = sorted(nodes_with_scores, key=lambda x: x[1], reverse=True)\n",
    "            sorted_nodes_only = [node for node, score in sorted_nodes]\n",
    "\n",
    "            context = \"\"\n",
    "            \n",
    "            for nod in sorted_nodes_only:\n",
    "                context = context + nod.metadata['file_name'].replace('txt', '') + '\\n' + nod.text + \"\\n\\n\"\n",
    "\n",
    "            prompt_template = test_prompts[template_name]\n",
    "            prompt = prompt_template.format(language = language, question=question, context=context).strip()\n",
    "            return prompt\n",
    "        \n",
    "        answer_llm = remove_tags(rag(question))\n",
    "\n",
    "        eval_prompt = prompt_judge_template.format(\n",
    "            question=question,\n",
    "            ground_truth=record['article'],\n",
    "            answer_llm=answer_llm\n",
    "        )\n",
    "\n",
    "        evaluation = llm_evaluate(eval_prompt)\n",
    "        evaluation = json.loads(evaluation)\n",
    "\n",
    "        prompt_evaluations.append((template_name, record, answer_llm, evaluation))\n",
    "    evaluations.append(prompt_evaluations)"
   ]
  },
  {
   "cell_type": "code",
   "execution_count": 164,
   "metadata": {},
   "outputs": [
    {
     "data": {
      "text/plain": [
       "[[('promt_template_1',\n",
       "   {'id': 'f50238b0-f986-4d21-9074-da3b56200c6f',\n",
       "    'question': 'What types of crimes are classified based on their severity in the law?',\n",
       "    'law_name': 'Уголовный кодекс Кыргызской Республики',\n",
       "    'article': 'Статья 19. Классификация преступлений\\r\\n \\r\\n1. Преступления в зависимости от характера и степени общественной опасности подразделяются на преступления небольшой тяжести, менее тяжкие, тяжкие и особо тяжкие.\\r\\n2. Тяжесть преступления определяется максимальным сроком наказания, предусмотренного санкцией статьи:\\r\\n1) к преступлениям небольшой тяжести относятся умышленные и неосторожные преступления, за которые наказание в виде лишения свободы не предусмотрено;\\r\\n2) к менее тяжким преступлениям относятся умышленные преступления, за которые законом предусмотрено наказание в виде лишения свободы на срок не свыше пяти лет, а также неосторожные преступления, за которые предусмотрено наказание в виде лишения свободы на срок не свыше десяти лет;\\r\\n3) к тяжким преступлениям относятся умышленные преступления, за которые законом предусмотрено наказание в виде лишения свободы на срок более пяти лет, но не свыше десяти лет;\\r\\n4) к особо тяжким преступлениям относятся умышленные преступления, за которые законом предусмотрено наказание в виде лишения свободы на срок свыше десяти лет или пожизненное лишение свободы.\\r\\n \\r',\n",
       "    'new_id': '193b9b81-da66-469e-b7fc-cc37cb657c77'},\n",
       "   'According to Article 19 of the Criminal Code of the Kyrgyz Republic, crimes are classified based on their nature and degree of public danger into four categories: \\n\\n1) Minor crimes - intentional and negligent crimes for which imprisonment is not provided.\\n2) Less serious crimes - intentional crimes punishable by up to five years of imprisonment, and negligent crimes punishable by up to ten years.\\n3) Serious crimes - intentional crimes punishable by more than five years but not exceeding ten years of imprisonment.\\n4) Particularly serious crimes - intentional crimes punishable by more than ten years of imprisonment or life imprisonment.',\n",
       "   {'Relevance': 'RELEVANT',\n",
       "    'Explanation': 'The generated answer accurately summarizes the classification of crimes based on their severity as outlined in the ground_truth, including all relevant categories and definitions provided in Article 19.'})],\n",
       " [('promt_template_2',\n",
       "   {'id': 'f50238b0-f986-4d21-9074-da3b56200c6f',\n",
       "    'question': 'What types of crimes are classified based on their severity in the law?',\n",
       "    'law_name': 'Уголовный кодекс Кыргызской Республики',\n",
       "    'article': 'Статья 19. Классификация преступлений\\r\\n \\r\\n1. Преступления в зависимости от характера и степени общественной опасности подразделяются на преступления небольшой тяжести, менее тяжкие, тяжкие и особо тяжкие.\\r\\n2. Тяжесть преступления определяется максимальным сроком наказания, предусмотренного санкцией статьи:\\r\\n1) к преступлениям небольшой тяжести относятся умышленные и неосторожные преступления, за которые наказание в виде лишения свободы не предусмотрено;\\r\\n2) к менее тяжким преступлениям относятся умышленные преступления, за которые законом предусмотрено наказание в виде лишения свободы на срок не свыше пяти лет, а также неосторожные преступления, за которые предусмотрено наказание в виде лишения свободы на срок не свыше десяти лет;\\r\\n3) к тяжким преступлениям относятся умышленные преступления, за которые законом предусмотрено наказание в виде лишения свободы на срок более пяти лет, но не свыше десяти лет;\\r\\n4) к особо тяжким преступлениям относятся умышленные преступления, за которые законом предусмотрено наказание в виде лишения свободы на срок свыше десяти лет или пожизненное лишение свободы.\\r\\n \\r',\n",
       "    'new_id': '193b9b81-da66-469e-b7fc-cc37cb657c77'},\n",
       "   'Crimes are classified according to their severity as follows: minor offenses, less serious offenses, serious offenses, and especially serious offenses, as stated in Article 19 of the Criminal Code of the Kyrgyz Republic.',\n",
       "   {'Relevance': 'RELEVANT',\n",
       "    'Explanation': 'The generated answer accurately reflects the classification of crimes based on their severity as outlined in the Ground_truth, including the correct categories of offenses and referencing Article 19 of the Criminal Code of the Kyrgyz Republic.'})],\n",
       " [('promt_template_3',\n",
       "   {'id': 'f50238b0-f986-4d21-9074-da3b56200c6f',\n",
       "    'question': 'What types of crimes are classified based on their severity in the law?',\n",
       "    'law_name': 'Уголовный кодекс Кыргызской Республики',\n",
       "    'article': 'Статья 19. Классификация преступлений\\r\\n \\r\\n1. Преступления в зависимости от характера и степени общественной опасности подразделяются на преступления небольшой тяжести, менее тяжкие, тяжкие и особо тяжкие.\\r\\n2. Тяжесть преступления определяется максимальным сроком наказания, предусмотренного санкцией статьи:\\r\\n1) к преступлениям небольшой тяжести относятся умышленные и неосторожные преступления, за которые наказание в виде лишения свободы не предусмотрено;\\r\\n2) к менее тяжким преступлениям относятся умышленные преступления, за которые законом предусмотрено наказание в виде лишения свободы на срок не свыше пяти лет, а также неосторожные преступления, за которые предусмотрено наказание в виде лишения свободы на срок не свыше десяти лет;\\r\\n3) к тяжким преступлениям относятся умышленные преступления, за которые законом предусмотрено наказание в виде лишения свободы на срок более пяти лет, но не свыше десяти лет;\\r\\n4) к особо тяжким преступлениям относятся умышленные преступления, за которые законом предусмотрено наказание в виде лишения свободы на срок свыше десяти лет или пожизненное лишение свободы.\\r\\n \\r',\n",
       "    'new_id': '193b9b81-da66-469e-b7fc-cc37cb657c77'},\n",
       "   \"The law classifies crimes into four categories based on their character and degree of public danger: minor offenses, less serious offenses, serious offenses, and especially serious offenses, determined by the maximum penalty stipulated by the article's sanction, as specified in Article 19 of the Criminal Code of the Kyrgyz Republic.\",\n",
       "   {'Relevance': 'RELEVANT',\n",
       "    'Explanation': 'The generated answer accurately describes the classification of crimes according to their severity, directly aligns with the question, and includes facts from the ground truth, specifically referencing the four categories outlined in Article 19.'})]]"
      ]
     },
     "execution_count": 164,
     "metadata": {},
     "output_type": "execute_result"
    }
   ],
   "source": [
    "evaluations"
   ]
  },
  {
   "cell_type": "code",
   "execution_count": 170,
   "metadata": {},
   "outputs": [],
   "source": [
    "df_eval = pd.DataFrame(columns=['new_id', 'question', 'template_name', 'answer', 'relevance', 'explanation'])\n",
    "\n",
    "for evaluation in evaluations:\n",
    "    df_tmp = pd.DataFrame(evaluation, columns=['template_name', 'record', 'answer', 'evaluation'])\n",
    "\n",
    "    df_tmp['new_id'] = df_tmp.record.apply(lambda d: d['new_id'])\n",
    "    df_tmp['question'] = df_tmp.record.apply(lambda d: d['question'])\n",
    "\n",
    "    df_tmp['relevance'] = df_tmp.evaluation.apply(lambda d: d['Relevance'])\n",
    "    df_tmp['explanation'] = df_tmp.evaluation.apply(lambda d: d['Explanation'])\n",
    "\n",
    "\n",
    "    del df_tmp['record']\n",
    "    del df_tmp['evaluation']\n",
    "\n",
    "    df_tmp = df_tmp[['new_id', 'question', 'template_name', 'answer', 'relevance', 'explanation']]\n",
    "    df_eval = pd.concat([df_eval, df_tmp], ignore_index=True)\n"
   ]
  },
  {
   "cell_type": "code",
   "execution_count": 171,
   "metadata": {},
   "outputs": [
    {
     "data": {
      "text/html": [
       "<div>\n",
       "<style scoped>\n",
       "    .dataframe tbody tr th:only-of-type {\n",
       "        vertical-align: middle;\n",
       "    }\n",
       "\n",
       "    .dataframe tbody tr th {\n",
       "        vertical-align: top;\n",
       "    }\n",
       "\n",
       "    .dataframe thead th {\n",
       "        text-align: right;\n",
       "    }\n",
       "</style>\n",
       "<table border=\"1\" class=\"dataframe\">\n",
       "  <thead>\n",
       "    <tr style=\"text-align: right;\">\n",
       "      <th></th>\n",
       "      <th>new_id</th>\n",
       "      <th>question</th>\n",
       "      <th>template_name</th>\n",
       "      <th>answer</th>\n",
       "      <th>relevance</th>\n",
       "      <th>explanation</th>\n",
       "    </tr>\n",
       "  </thead>\n",
       "  <tbody>\n",
       "    <tr>\n",
       "      <th>0</th>\n",
       "      <td>73bf1577-4d39-4f39-a753-3f54e9533735</td>\n",
       "      <td>What are the penalties for individuals who vio...</td>\n",
       "      <td>promt_template_1</td>\n",
       "      <td>The penalties for individuals violating smokin...</td>\n",
       "      <td>RELEVANT</td>\n",
       "      <td>The generated answer directly addresses the qu...</td>\n",
       "    </tr>\n",
       "    <tr>\n",
       "      <th>1</th>\n",
       "      <td>73bf1577-4d39-4f39-a753-3f54e9533735</td>\n",
       "      <td>How much is the fine for legal entities that f...</td>\n",
       "      <td>promt_template_1</td>\n",
       "      <td>The fine for legal entities that do not comply...</td>\n",
       "      <td>RELEVANT</td>\n",
       "      <td>The generated answer accurately states the fin...</td>\n",
       "    </tr>\n",
       "    <tr>\n",
       "      <th>2</th>\n",
       "      <td>73bf1577-4d39-4f39-a753-3f54e9533735</td>\n",
       "      <td>What specific actions are considered violation...</td>\n",
       "      <td>promt_template_1</td>\n",
       "      <td>The specific actions that are considered viola...</td>\n",
       "      <td>PARTLY_RELEVANT</td>\n",
       "      <td>The generated answer includes some relevant ac...</td>\n",
       "    </tr>\n",
       "    <tr>\n",
       "      <th>3</th>\n",
       "      <td>193b9b81-da66-469e-b7fc-cc37cb657c77</td>\n",
       "      <td>What types of crimes are classified based on t...</td>\n",
       "      <td>promt_template_1</td>\n",
       "      <td>The Criminal Code of the Kyrgyz Republic class...</td>\n",
       "      <td>RELEVANT</td>\n",
       "      <td>The generated answer directly addresses the qu...</td>\n",
       "    </tr>\n",
       "    <tr>\n",
       "      <th>4</th>\n",
       "      <td>193b9b81-da66-469e-b7fc-cc37cb657c77</td>\n",
       "      <td>How is the severity of a crime determined acco...</td>\n",
       "      <td>promt_template_1</td>\n",
       "      <td>The severity of a crime in accordance with the...</td>\n",
       "      <td>RELEVANT</td>\n",
       "      <td>The generated answer directly addresses the qu...</td>\n",
       "    </tr>\n",
       "    <tr>\n",
       "      <th>...</th>\n",
       "      <td>...</td>\n",
       "      <td>...</td>\n",
       "      <td>...</td>\n",
       "      <td>...</td>\n",
       "      <td>...</td>\n",
       "      <td>...</td>\n",
       "    </tr>\n",
       "    <tr>\n",
       "      <th>445</th>\n",
       "      <td>457de72f-39ff-45b9-a2a7-bbadea3a1a1d</td>\n",
       "      <td>Can individual entrepreneurs make entries in t...</td>\n",
       "      <td>promt_template_3</td>\n",
       "      <td>\\n&lt;Answer&gt;\\nIndividual entrepreneurs, as regis...</td>\n",
       "      <td>RELEVANT</td>\n",
       "      <td>The generated answer directly addresses the qu...</td>\n",
       "    </tr>\n",
       "    <tr>\n",
       "      <th>446</th>\n",
       "      <td>457de72f-39ff-45b9-a2a7-bbadea3a1a1d</td>\n",
       "      <td>Is a written employment contract necessary for...</td>\n",
       "      <td>promt_template_3</td>\n",
       "      <td>\\n&lt;Answer&gt;\\nA written labor contract is necess...</td>\n",
       "      <td>RELEVANT</td>\n",
       "      <td>The generated answer directly addresses the qu...</td>\n",
       "    </tr>\n",
       "    <tr>\n",
       "      <th>447</th>\n",
       "      <td>393b240a-7475-4dbc-a595-27518ca444f2</td>\n",
       "      <td>What conditions allow a taxpayer to apply for ...</td>\n",
       "      <td>promt_template_3</td>\n",
       "      <td>A taxpayer may request a deferral or installme...</td>\n",
       "      <td>RELEVANT</td>\n",
       "      <td>The generated answer adequately addresses the ...</td>\n",
       "    </tr>\n",
       "    <tr>\n",
       "      <th>448</th>\n",
       "      <td>393b240a-7475-4dbc-a595-27518ca444f2</td>\n",
       "      <td>How long can a taxpayer receive a deferral on ...</td>\n",
       "      <td>promt_template_3</td>\n",
       "      <td>&lt;answer&gt;\\nThe taxpayer can obtain a deferral f...</td>\n",
       "      <td>PARTLY_RELEVANT</td>\n",
       "      <td>The generated answer correctly mentions that t...</td>\n",
       "    </tr>\n",
       "    <tr>\n",
       "      <th>449</th>\n",
       "      <td>393b240a-7475-4dbc-a595-27518ca444f2</td>\n",
       "      <td>What should a tax authority's decision include...</td>\n",
       "      <td>promt_template_3</td>\n",
       "      <td>&lt;answer&gt;\\nThe decision of the tax authority gr...</td>\n",
       "      <td>RELEVANT</td>\n",
       "      <td>The generated answer accurately identifies the...</td>\n",
       "    </tr>\n",
       "  </tbody>\n",
       "</table>\n",
       "<p>450 rows × 6 columns</p>\n",
       "</div>"
      ],
      "text/plain": [
       "                                   new_id  \\\n",
       "0    73bf1577-4d39-4f39-a753-3f54e9533735   \n",
       "1    73bf1577-4d39-4f39-a753-3f54e9533735   \n",
       "2    73bf1577-4d39-4f39-a753-3f54e9533735   \n",
       "3    193b9b81-da66-469e-b7fc-cc37cb657c77   \n",
       "4    193b9b81-da66-469e-b7fc-cc37cb657c77   \n",
       "..                                    ...   \n",
       "445  457de72f-39ff-45b9-a2a7-bbadea3a1a1d   \n",
       "446  457de72f-39ff-45b9-a2a7-bbadea3a1a1d   \n",
       "447  393b240a-7475-4dbc-a595-27518ca444f2   \n",
       "448  393b240a-7475-4dbc-a595-27518ca444f2   \n",
       "449  393b240a-7475-4dbc-a595-27518ca444f2   \n",
       "\n",
       "                                              question     template_name  \\\n",
       "0    What are the penalties for individuals who vio...  promt_template_1   \n",
       "1    How much is the fine for legal entities that f...  promt_template_1   \n",
       "2    What specific actions are considered violation...  promt_template_1   \n",
       "3    What types of crimes are classified based on t...  promt_template_1   \n",
       "4    How is the severity of a crime determined acco...  promt_template_1   \n",
       "..                                                 ...               ...   \n",
       "445  Can individual entrepreneurs make entries in t...  promt_template_3   \n",
       "446  Is a written employment contract necessary for...  promt_template_3   \n",
       "447  What conditions allow a taxpayer to apply for ...  promt_template_3   \n",
       "448  How long can a taxpayer receive a deferral on ...  promt_template_3   \n",
       "449  What should a tax authority's decision include...  promt_template_3   \n",
       "\n",
       "                                                answer        relevance  \\\n",
       "0    The penalties for individuals violating smokin...         RELEVANT   \n",
       "1    The fine for legal entities that do not comply...         RELEVANT   \n",
       "2    The specific actions that are considered viola...  PARTLY_RELEVANT   \n",
       "3    The Criminal Code of the Kyrgyz Republic class...         RELEVANT   \n",
       "4    The severity of a crime in accordance with the...         RELEVANT   \n",
       "..                                                 ...              ...   \n",
       "445  \\n<Answer>\\nIndividual entrepreneurs, as regis...         RELEVANT   \n",
       "446  \\n<Answer>\\nA written labor contract is necess...         RELEVANT   \n",
       "447  A taxpayer may request a deferral or installme...         RELEVANT   \n",
       "448  <answer>\\nThe taxpayer can obtain a deferral f...  PARTLY_RELEVANT   \n",
       "449  <answer>\\nThe decision of the tax authority gr...         RELEVANT   \n",
       "\n",
       "                                           explanation  \n",
       "0    The generated answer directly addresses the qu...  \n",
       "1    The generated answer accurately states the fin...  \n",
       "2    The generated answer includes some relevant ac...  \n",
       "3    The generated answer directly addresses the qu...  \n",
       "4    The generated answer directly addresses the qu...  \n",
       "..                                                 ...  \n",
       "445  The generated answer directly addresses the qu...  \n",
       "446  The generated answer directly addresses the qu...  \n",
       "447  The generated answer adequately addresses the ...  \n",
       "448  The generated answer correctly mentions that t...  \n",
       "449  The generated answer accurately identifies the...  \n",
       "\n",
       "[450 rows x 6 columns]"
      ]
     },
     "execution_count": 171,
     "metadata": {},
     "output_type": "execute_result"
    }
   ],
   "source": [
    "df_eval"
   ]
  },
  {
   "cell_type": "code",
   "execution_count": 179,
   "metadata": {},
   "outputs": [],
   "source": [
    "df_eval.to_csv('../data/rag-evaluation.csv', index=False)"
   ]
  },
  {
   "cell_type": "code",
   "execution_count": 181,
   "metadata": {},
   "outputs": [
    {
     "data": {
      "text/html": [
       "<div>\n",
       "<style scoped>\n",
       "    .dataframe tbody tr th:only-of-type {\n",
       "        vertical-align: middle;\n",
       "    }\n",
       "\n",
       "    .dataframe tbody tr th {\n",
       "        vertical-align: top;\n",
       "    }\n",
       "\n",
       "    .dataframe thead th {\n",
       "        text-align: right;\n",
       "    }\n",
       "</style>\n",
       "<table border=\"1\" class=\"dataframe\">\n",
       "  <thead>\n",
       "    <tr style=\"text-align: right;\">\n",
       "      <th></th>\n",
       "      <th></th>\n",
       "      <th>count</th>\n",
       "      <th>count_norm</th>\n",
       "    </tr>\n",
       "    <tr>\n",
       "      <th>template_name</th>\n",
       "      <th>relevance</th>\n",
       "      <th></th>\n",
       "      <th></th>\n",
       "    </tr>\n",
       "  </thead>\n",
       "  <tbody>\n",
       "    <tr>\n",
       "      <th rowspan=\"3\" valign=\"top\">promt_template_1</th>\n",
       "      <th>NON_RELEVANT</th>\n",
       "      <td>8</td>\n",
       "      <td>1.8%</td>\n",
       "    </tr>\n",
       "    <tr>\n",
       "      <th>PARTLY_RELEVANT</th>\n",
       "      <td>44</td>\n",
       "      <td>9.8%</td>\n",
       "    </tr>\n",
       "    <tr>\n",
       "      <th>RELEVANT</th>\n",
       "      <td>98</td>\n",
       "      <td>21.8%</td>\n",
       "    </tr>\n",
       "    <tr>\n",
       "      <th rowspan=\"3\" valign=\"top\">promt_template_2</th>\n",
       "      <th>NON_RELEVANT</th>\n",
       "      <td>25</td>\n",
       "      <td>5.6%</td>\n",
       "    </tr>\n",
       "    <tr>\n",
       "      <th>PARTLY_RELEVANT</th>\n",
       "      <td>38</td>\n",
       "      <td>8.4%</td>\n",
       "    </tr>\n",
       "    <tr>\n",
       "      <th>RELEVANT</th>\n",
       "      <td>87</td>\n",
       "      <td>19.3%</td>\n",
       "    </tr>\n",
       "    <tr>\n",
       "      <th rowspan=\"4\" valign=\"top\">promt_template_3</th>\n",
       "      <th>IMPORTANT_RELEVANT</th>\n",
       "      <td>1</td>\n",
       "      <td>0.2%</td>\n",
       "    </tr>\n",
       "    <tr>\n",
       "      <th>NON_RELEVANT</th>\n",
       "      <td>11</td>\n",
       "      <td>2.4%</td>\n",
       "    </tr>\n",
       "    <tr>\n",
       "      <th>PARTLY_RELEVANT</th>\n",
       "      <td>54</td>\n",
       "      <td>12.0%</td>\n",
       "    </tr>\n",
       "    <tr>\n",
       "      <th>RELEVANT</th>\n",
       "      <td>84</td>\n",
       "      <td>18.7%</td>\n",
       "    </tr>\n",
       "  </tbody>\n",
       "</table>\n",
       "</div>"
      ],
      "text/plain": [
       "                                     count count_norm\n",
       "template_name    relevance                           \n",
       "promt_template_1 NON_RELEVANT            8       1.8%\n",
       "                 PARTLY_RELEVANT        44       9.8%\n",
       "                 RELEVANT               98      21.8%\n",
       "promt_template_2 NON_RELEVANT           25       5.6%\n",
       "                 PARTLY_RELEVANT        38       8.4%\n",
       "                 RELEVANT               87      19.3%\n",
       "promt_template_3 IMPORTANT_RELEVANT      1       0.2%\n",
       "                 NON_RELEVANT           11       2.4%\n",
       "                 PARTLY_RELEVANT        54      12.0%\n",
       "                 RELEVANT               84      18.7%"
      ]
     },
     "execution_count": 181,
     "metadata": {},
     "output_type": "execute_result"
    }
   ],
   "source": [
    "grouped = df_eval.groupby(by=['template_name', 'relevance']).agg({'relevance':'count'}).rename({'relevance':'count'}, axis=1)\n",
    "grouped['count_norm'] = grouped['count'] / grouped['count'].sum()\n",
    "grouped['count_norm'] = grouped['count_norm'].apply(lambda i: \"{:.1%}\".format(i))\n",
    "grouped"
   ]
  }
 ],
 "metadata": {
  "kernelspec": {
   "display_name": "legal-advisor-rag-x6CAXa7x",
   "language": "python",
   "name": "python3"
  },
  "language_info": {
   "codemirror_mode": {
    "name": "ipython",
    "version": 3
   },
   "file_extension": ".py",
   "mimetype": "text/x-python",
   "name": "python",
   "nbconvert_exporter": "python",
   "pygments_lexer": "ipython3",
   "version": "3.12.2"
  }
 },
 "nbformat": 4,
 "nbformat_minor": 2
}
